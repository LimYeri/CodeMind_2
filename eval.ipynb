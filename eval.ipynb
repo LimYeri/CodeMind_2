{
 "cells": [
  {
   "cell_type": "code",
   "execution_count": 1,
   "id": "initial_id",
   "metadata": {
    "collapsed": true,
    "ExecuteTime": {
     "end_time": "2024-04-16T01:40:43.242387Z",
     "start_time": "2024-04-16T01:40:31.705736Z"
    }
   },
   "outputs": [],
   "source": [
    "import evaluate"
   ]
  },
  {
   "cell_type": "code",
   "outputs": [
    {
     "data": {
      "text/plain": "Downloading builder script:   0%|          | 0.00/6.27k [00:00<?, ?B/s]",
      "application/vnd.jupyter.widget-view+json": {
       "version_major": 2,
       "version_minor": 0,
       "model_id": "7b722a0be58e4c17be2243bdd4619760"
      }
     },
     "metadata": {},
     "output_type": "display_data"
    }
   ],
   "source": [
    "rouge_test = evaluate.load('rouge')"
   ],
   "metadata": {
    "collapsed": false,
    "ExecuteTime": {
     "end_time": "2024-04-16T01:40:48.282267Z",
     "start_time": "2024-04-16T01:40:46.363385Z"
    }
   },
   "id": "55edcfdd70f42442",
   "execution_count": 2
  },
  {
   "cell_type": "code",
   "outputs": [
    {
     "data": {
      "text/plain": "Loading checkpoint shards:   0%|          | 0/2 [00:00<?, ?it/s]",
      "application/vnd.jupyter.widget-view+json": {
       "version_major": 2,
       "version_minor": 0,
       "model_id": "c11a1783c1774d688814bb2e803603f0"
      }
     },
     "metadata": {},
     "output_type": "display_data"
    }
   ],
   "source": [
    "from transformers import AutoTokenizer, AutoModelForCausalLM\n",
    "\n",
    "model_id = 'kreimben/CodeMind-gemma'\n",
    "\n",
    "tokenizer = AutoTokenizer.from_pretrained('kreimben/CodeMind-gemma')\n",
    "tokenizer.padding_side = 'left'\n",
    "model = AutoModelForCausalLM.from_pretrained('kreimben/CodeMind-gemma')"
   ],
   "metadata": {
    "collapsed": false,
    "ExecuteTime": {
     "end_time": "2024-04-16T01:52:06.515246Z",
     "start_time": "2024-04-16T01:51:39.394407Z"
    }
   },
   "id": "236cac5ab4f5ea47",
   "execution_count": 11
  },
  {
   "cell_type": "code",
   "outputs": [
    {
     "name": "stderr",
     "output_type": "stream",
     "text": [
      "A decoder-only architecture is being used, but right-padding was detected! For correct generation results, please set `padding_side='left'` when initializing the tokenizer.\n"
     ]
    },
    {
     "name": "stdout",
     "output_type": "stream",
     "text": [
      "CPU times: user 1min 34s, sys: 1min 41s, total: 3min 16s\n",
      "Wall time: 1min 35s\n"
     ]
    }
   ],
   "source": [
    "%%time\n",
    "\n",
    "from utils import get_completion\n",
    "\n",
    "import torch\n",
    "\n",
    "with torch.no_grad():\n",
    "    res = get_completion('hello!', model, tokenizer, device='cpu', max_new_tokens=32).split('model')[-1]"
   ],
   "metadata": {
    "collapsed": false,
    "ExecuteTime": {
     "end_time": "2024-04-16T01:56:18.309751Z",
     "start_time": "2024-04-16T01:54:42.878880Z"
    }
   },
   "id": "221bbc916146eea4",
   "execution_count": 14
  },
  {
   "cell_type": "code",
   "outputs": [
    {
     "data": {
      "text/plain": "'hello! greetings to you as well. how can i be of service today? do you need to discuss a project, complete a task, or have a brief'"
     },
     "execution_count": 15,
     "metadata": {},
     "output_type": "execute_result"
    }
   ],
   "source": [
    "res"
   ],
   "metadata": {
    "collapsed": false,
    "ExecuteTime": {
     "end_time": "2024-04-16T01:56:18.318617Z",
     "start_time": "2024-04-16T01:56:18.312816Z"
    }
   },
   "id": "3068caa6c33ac097",
   "execution_count": 15
  },
  {
   "cell_type": "code",
   "outputs": [],
   "source": [],
   "metadata": {
    "collapsed": false
   },
   "id": "b4125fd32f5a966f"
  }
 ],
 "metadata": {
  "kernelspec": {
   "display_name": "Python 3",
   "language": "python",
   "name": "python3"
  },
  "language_info": {
   "codemirror_mode": {
    "name": "ipython",
    "version": 2
   },
   "file_extension": ".py",
   "mimetype": "text/x-python",
   "name": "python",
   "nbconvert_exporter": "python",
   "pygments_lexer": "ipython2",
   "version": "2.7.6"
  }
 },
 "nbformat": 4,
 "nbformat_minor": 5
}
