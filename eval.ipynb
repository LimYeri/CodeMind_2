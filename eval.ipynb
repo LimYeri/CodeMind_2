{
 "cells": [
  {
   "cell_type": "code",
   "id": "initial_id",
   "metadata": {
    "collapsed": true,
    "ExecuteTime": {
     "end_time": "2024-04-16T04:03:38.688836Z",
     "start_time": "2024-04-16T04:03:33.327487Z"
    }
   },
   "source": [
    "import evaluate\n",
    "import datasets\n",
    "import pandas as pd"
   ],
   "outputs": [],
   "execution_count": 1
  },
  {
   "cell_type": "code",
   "source": [
    "from transformers import AutoTokenizer, AutoModelForCausalLM\n",
    "\n",
    "model_id = 'kreimben/CodeMind-gemma'\n",
    "\n",
    "tokenizer = AutoTokenizer.from_pretrained('kreimben/CodeMind-gemma')\n",
    "tokenizer.padding_side = 'left'\n",
    "model = AutoModelForCausalLM.from_pretrained('kreimben/CodeMind-gemma')\n",
    "model = model.to('cuda')"
   ],
   "metadata": {
    "collapsed": false,
    "ExecuteTime": {
     "end_time": "2024-04-16T04:03:48.286206Z",
     "start_time": "2024-04-16T04:03:38.689838Z"
    }
   },
   "id": "236cac5ab4f5ea47",
   "outputs": [
    {
     "data": {
      "text/plain": [
       "Loading checkpoint shards:   0%|          | 0/2 [00:00<?, ?it/s]"
      ],
      "application/vnd.jupyter.widget-view+json": {
       "version_major": 2,
       "version_minor": 0,
       "model_id": "f72596b0b6044216b248e3b2fc9e6cab"
      }
     },
     "metadata": {},
     "output_type": "display_data"
    }
   ],
   "execution_count": 2
  },
  {
   "metadata": {
    "ExecuteTime": {
     "end_time": "2024-04-16T04:03:54.324921Z",
     "start_time": "2024-04-16T04:03:48.287205Z"
    }
   },
   "cell_type": "code",
   "source": [
    "submission_dataset = datasets.load_dataset('csv', data_files='./user_submission_only_python.csv',\n",
    "                                           split='train').to_pandas()\n",
    "submission_dataset = submission_dataset[['title_slug', 'question_hints', 'question_content', 'content']]\n",
    "captions_dataset = datasets.load_dataset('kreimben/leetcode_with_youtube_captions', split='train').to_pandas()[\n",
    "    ['title_slug', 'question_hints', 'question_content', 'cc_content']]\n",
    "captions_dataset.rename(columns={'cc_content': 'content'}, inplace=True)\n",
    "\n",
    "dataset = pd.concat([submission_dataset, captions_dataset])\n",
    "\n",
    "del submission_dataset, captions_dataset\n",
    "\n",
    "dataset.head(3)"
   ],
   "id": "39f84a72b18f7b73",
   "outputs": [
    {
     "data": {
      "text/plain": [
       "  title_slug                                     question_hints  \\\n",
       "0    two-sum  A really brute force way would be to search fo...   \n",
       "1    two-sum  A really brute force way would be to search fo...   \n",
       "2    two-sum  A really brute force way would be to search fo...   \n",
       "\n",
       "                                    question_content  \\\n",
       "0  Given an array of integers nums and an integer...   \n",
       "1  Given an array of integers nums and an integer...   \n",
       "2  Given an array of integers nums and an integer...   \n",
       "\n",
       "                                             content  \n",
       "0  # Intuition\\n<!-- Describe your first thoughts...  \n",
       "1  # Beginner doubt - Where is main function?\\n- ...  \n",
       "2  # **Read article Explaination and codes : \\n\\n...  "
      ],
      "text/html": [
       "<div>\n",
       "<style scoped>\n",
       "    .dataframe tbody tr th:only-of-type {\n",
       "        vertical-align: middle;\n",
       "    }\n",
       "\n",
       "    .dataframe tbody tr th {\n",
       "        vertical-align: top;\n",
       "    }\n",
       "\n",
       "    .dataframe thead th {\n",
       "        text-align: right;\n",
       "    }\n",
       "</style>\n",
       "<table border=\"1\" class=\"dataframe\">\n",
       "  <thead>\n",
       "    <tr style=\"text-align: right;\">\n",
       "      <th></th>\n",
       "      <th>title_slug</th>\n",
       "      <th>question_hints</th>\n",
       "      <th>question_content</th>\n",
       "      <th>content</th>\n",
       "    </tr>\n",
       "  </thead>\n",
       "  <tbody>\n",
       "    <tr>\n",
       "      <th>0</th>\n",
       "      <td>two-sum</td>\n",
       "      <td>A really brute force way would be to search fo...</td>\n",
       "      <td>Given an array of integers nums and an integer...</td>\n",
       "      <td># Intuition\\n&lt;!-- Describe your first thoughts...</td>\n",
       "    </tr>\n",
       "    <tr>\n",
       "      <th>1</th>\n",
       "      <td>two-sum</td>\n",
       "      <td>A really brute force way would be to search fo...</td>\n",
       "      <td>Given an array of integers nums and an integer...</td>\n",
       "      <td># Beginner doubt - Where is main function?\\n- ...</td>\n",
       "    </tr>\n",
       "    <tr>\n",
       "      <th>2</th>\n",
       "      <td>two-sum</td>\n",
       "      <td>A really brute force way would be to search fo...</td>\n",
       "      <td>Given an array of integers nums and an integer...</td>\n",
       "      <td># **Read article Explaination and codes : \\n\\n...</td>\n",
       "    </tr>\n",
       "  </tbody>\n",
       "</table>\n",
       "</div>"
      ]
     },
     "execution_count": 3,
     "metadata": {},
     "output_type": "execute_result"
    }
   ],
   "execution_count": 3
  },
  {
   "metadata": {
    "ExecuteTime": {
     "end_time": "2024-04-16T04:03:55.023617Z",
     "start_time": "2024-04-16T04:03:54.325921Z"
    }
   },
   "cell_type": "code",
   "source": [
    "from datasets import Dataset\n",
    "\n",
    "dataset = Dataset.from_pandas(dataset)"
   ],
   "id": "60ed82c09592134d",
   "outputs": [],
   "execution_count": 4
  },
  {
   "metadata": {
    "ExecuteTime": {
     "end_time": "2024-04-16T04:03:55.039621Z",
     "start_time": "2024-04-16T04:03:55.024618Z"
    }
   },
   "cell_type": "code",
   "source": [
    "GEMMA_2B_IT_MODEL_PREFIX_TEXT = \"\"\"Below is an coding test problem. Solve the question.\"\"\"\n",
    "\n",
    "\n",
    "def generate_prompt(data_point):\n",
    "    return f\"\"\"<start_of_turn>user {GEMMA_2B_IT_MODEL_PREFIX_TEXT}\\n\n",
    "I don't know {data_point['title_slug']} problem. give me the insight or appoach.\\n\n",
    "this is problem's hint.\\n{data_point[\"question_hints\"]}\\n\n",
    "here are some content of question.\\n{data_point[\"question_content\"]}<end_of_turn>\n",
    "<start_of_turn>model {data_point[\"content\"]}<end_of_turn>\"\"\""
   ],
   "id": "9775ff803f58cd46",
   "outputs": [],
   "execution_count": 5
  },
  {
   "metadata": {
    "ExecuteTime": {
     "end_time": "2024-04-16T04:04:40.855631Z",
     "start_time": "2024-04-16T04:03:55.040620Z"
    }
   },
   "cell_type": "code",
   "source": [
    "text_column = [generate_prompt(data_point) for data_point in dataset]\n",
    "dataset = dataset.add_column(\"prompt\", text_column)\n",
    "dataset = dataset.shuffle(seed=42)  # Shuffle dataset here\n",
    "dataset = dataset.map(lambda samples: tokenizer(samples[\"prompt\"]), batched=True)"
   ],
   "id": "81f868a25ffb221a",
   "outputs": [
    {
     "data": {
      "text/plain": [
       "Map:   0%|          | 0/35997 [00:00<?, ? examples/s]"
      ],
      "application/vnd.jupyter.widget-view+json": {
       "version_major": 2,
       "version_minor": 0,
       "model_id": "f7e8a433b7cd47f994b60e502af6c6d6"
      }
     },
     "metadata": {},
     "output_type": "display_data"
    }
   ],
   "execution_count": 6
  },
  {
   "metadata": {
    "ExecuteTime": {
     "end_time": "2024-04-16T04:04:40.871634Z",
     "start_time": "2024-04-16T04:04:40.856631Z"
    }
   },
   "cell_type": "code",
   "source": [
    "dataset = dataset.remove_columns(['title_slug', 'question_hints', 'question_content', 'content'])\n",
    "dataset"
   ],
   "id": "62786a23ebe213af",
   "outputs": [
    {
     "data": {
      "text/plain": [
       "Dataset({\n",
       "    features: ['__index_level_0__', 'prompt', 'input_ids', 'attention_mask'],\n",
       "    num_rows: 35997\n",
       "})"
      ]
     },
     "execution_count": 7,
     "metadata": {},
     "output_type": "execute_result"
    }
   ],
   "execution_count": 7
  },
  {
   "metadata": {
    "ExecuteTime": {
     "end_time": "2024-04-16T04:49:28.764999Z",
     "start_time": "2024-04-16T04:49:28.447416Z"
    }
   },
   "cell_type": "code",
   "source": "example_dataset = dataset['prompt'][:30]",
   "id": "112f6febedb1c2a6",
   "outputs": [],
   "execution_count": 20
  },
  {
   "cell_type": "code",
   "source": [
    "%%time\n",
    "\n",
    "from utils import get_completion\n",
    "\n",
    "import torch\n",
    "\n",
    "references = []\n",
    "predictions = []\n",
    "\n",
    "with torch.no_grad():\n",
    "    for prompt in example_dataset:\n",
    "        references.append(prompt.split('model')[-1])\n",
    "        predict = get_completion(prompt, model, tokenizer, device='cuda', max_new_tokens=2048).split('model')[-1]\n",
    "        predictions.append(predict)"
   ],
   "metadata": {
    "collapsed": false,
    "jupyter": {
     "is_executing": true
    },
    "ExecuteTime": {
     "start_time": "2024-04-16T05:45:31.504027Z"
    }
   },
   "id": "221bbc916146eea4",
   "outputs": [
    {
     "name": "stderr",
     "output_type": "stream",
     "text": [
      "A decoder-only architecture is being used, but right-padding was detected! For correct generation results, please set `padding_side='left'` when initializing the tokenizer.\n"
     ]
    }
   ],
   "execution_count": null
  },
  {
   "metadata": {
    "jupyter": {
     "is_executing": true
    }
   },
   "cell_type": "code",
   "source": "rouge = evaluate.load('rouge')",
   "id": "55edcfdd70f42442",
   "outputs": [],
   "execution_count": null
  },
  {
   "cell_type": "code",
   "source": [
    "results = rouge.compute(predictions=predictions, references=references)\n",
    "results"
   ],
   "metadata": {
    "collapsed": false,
    "jupyter": {
     "is_executing": true
    }
   },
   "id": "3068caa6c33ac097",
   "outputs": [],
   "execution_count": null
  },
  {
   "cell_type": "code",
   "source": [],
   "metadata": {
    "collapsed": false,
    "ExecuteTime": {
     "end_time": "2024-04-16T04:38:52.082684Z",
     "start_time": "2024-04-16T04:38:52.082684Z"
    }
   },
   "id": "b4125fd32f5a966f",
   "outputs": [],
   "execution_count": null
  }
 ],
 "metadata": {
  "kernelspec": {
   "display_name": "Python 3",
   "language": "python",
   "name": "python3"
  },
  "language_info": {
   "codemirror_mode": {
    "name": "ipython",
    "version": 2
   },
   "file_extension": ".py",
   "mimetype": "text/x-python",
   "name": "python",
   "nbconvert_exporter": "python",
   "pygments_lexer": "ipython2",
   "version": "2.7.6"
  }
 },
 "nbformat": 4,
 "nbformat_minor": 5
}
