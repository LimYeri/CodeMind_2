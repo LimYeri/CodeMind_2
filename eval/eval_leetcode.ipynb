{
 "cells": [
  {
   "metadata": {},
   "cell_type": "code",
   "source": [
    "import pandas as pd\n",
    "from datasets import Dataset\n",
    "import datasets\n",
    "\n",
    "import evaluate\n",
    "\n",
    "model_id = 'kreimben/CodeMind-gemma'\n",
    "\n",
    "perplexity = evaluate.load(\"perplexity\", module_type=\"metric\")\n",
    "\n",
    "submission_dataset = datasets.load_dataset('kreimben/leetcode_user_submissions_only_python', split='train').to_pandas()\n",
    "submission_dataset = submission_dataset[['title_slug', 'question_hints', 'question_content', 'content']]\n",
    "captions_dataset = datasets.load_dataset('kreimben/leetcode_with_youtube_captions', split='train').to_pandas()\n",
    "captions_dataset = captions_dataset[['title_slug', 'question_hints', 'question_content', 'cc_content']]\n",
    "captions_dataset.rename(columns={'cc_content': 'content'}, inplace=True)\n",
    "\n",
    "dataset = pd.concat([submission_dataset, captions_dataset])\n",
    "\n",
    "del submission_dataset, captions_dataset\n",
    "\n",
    "dataset = Dataset.from_pandas(dataset)"
   ],
   "id": "e3154e24256bb1e1",
   "outputs": [],
   "execution_count": null
  },
  {
   "metadata": {},
   "cell_type": "code",
   "source": [
    "GEMMA_2B_IT_MODEL_PREFIX_TEXT = \"\"\"Below is an coding test problem. Solve the question.\"\"\"\n",
    "\n",
    "\n",
    "def generate_prompt(data_point):\n",
    "    return f\"\"\"<start_of_turn>user {GEMMA_2B_IT_MODEL_PREFIX_TEXT}\\n\n",
    "I don't know {data_point['title_slug']} problem. give me the insight or appoach.\\n\n",
    "this is problem's hint.\\n{data_point[\"question_hints\"]}\\n\n",
    "here are some content of question.\\n{data_point[\"question_content\"]}<end_of_turn>\n",
    "<start_of_turn>model {data_point[\"content\"]}<end_of_turn>\"\"\""
   ],
   "id": "b35be6069946dee7",
   "outputs": [],
   "execution_count": null
  },
  {
   "metadata": {},
   "cell_type": "code",
   "source": [
    "# add the \"prompt\" column in the dataset\n",
    "text_column = [generate_prompt(data_point) for data_point in dataset]\n",
    "text_column = text_column[:200]\n",
    "del dataset, GEMMA_2B_IT_MODEL_PREFIX_TEXT"
   ],
   "id": "c64db6731d4af139",
   "outputs": [],
   "execution_count": null
  },
  {
   "metadata": {},
   "cell_type": "code",
   "source": [
    "%%time\n",
    "results = perplexity.compute(\n",
    "    model_id=model_id,\n",
    "    predictions=text_column,\n",
    "    batch_size=1,\n",
    "    device='cpu',\n",
    ")"
   ],
   "id": "948c65a21982398e",
   "outputs": [],
   "execution_count": null
  },
  {
   "metadata": {},
   "cell_type": "code",
   "source": [
    "print(list(results.keys()))\n",
    "print(round(results[\"mean_perplexity\"], 2))\n",
    "print(round(results[\"perplexities\"][0], 2))"
   ],
   "id": "7f1d38109b25e23d",
   "outputs": [],
   "execution_count": null
  }
 ],
 "metadata": {
  "kernelspec": {
   "display_name": "Python 3",
   "language": "python",
   "name": "python3"
  },
  "language_info": {
   "codemirror_mode": {
    "name": "ipython",
    "version": 2
   },
   "file_extension": ".py",
   "mimetype": "text/x-python",
   "name": "python",
   "nbconvert_exporter": "python",
   "pygments_lexer": "ipython2",
   "version": "2.7.6"
  }
 },
 "nbformat": 4,
 "nbformat_minor": 5
}
