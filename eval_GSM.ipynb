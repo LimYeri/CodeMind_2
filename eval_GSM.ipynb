{
 "cells": [
  {
   "metadata": {
    "ExecuteTime": {
     "end_time": "2024-04-17T08:20:21.461473Z",
     "start_time": "2024-04-17T08:19:56.465444Z"
    }
   },
   "cell_type": "code",
   "source": [
    "import datasets\n",
    "\n",
    "import evaluate\n",
    "\n",
    "perplexity = evaluate.load(\"perplexity\", module_type=\"metric\")\n",
    "main_input_texts = datasets.load_dataset(\"gsm8k\", 'main', split='test')[\"question\"]\n",
    "socr_input_texts = datasets.load_dataset(\"gsm8k\", 'socratic', split='test')[\"question\"]"
   ],
   "id": "e3154e24256bb1e1",
   "outputs": [
    {
     "name": "stderr",
     "output_type": "stream",
     "text": [
      "Downloading data: 100%|██████████| 2.68M/2.68M [00:00<00:00, 7.70MB/s]\n",
      "Downloading data: 100%|██████████| 487k/487k [00:00<00:00, 2.09MB/s]\n"
     ]
    },
    {
     "data": {
      "text/plain": [
       "Generating train split:   0%|          | 0/7473 [00:00<?, ? examples/s]"
      ],
      "application/vnd.jupyter.widget-view+json": {
       "version_major": 2,
       "version_minor": 0,
       "model_id": "2f743cfbffa44b06ada6c35762699048"
      }
     },
     "metadata": {},
     "output_type": "display_data"
    },
    {
     "data": {
      "text/plain": [
       "Generating test split:   0%|          | 0/1319 [00:00<?, ? examples/s]"
      ],
      "application/vnd.jupyter.widget-view+json": {
       "version_major": 2,
       "version_minor": 0,
       "model_id": "4ac901c802524775bd5e133cf6d60222"
      }
     },
     "metadata": {},
     "output_type": "display_data"
    }
   ],
   "execution_count": 1
  },
  {
   "metadata": {
    "ExecuteTime": {
     "end_time": "2024-04-17T08:20:21.477479Z",
     "start_time": "2024-04-17T08:20:21.462474Z"
    }
   },
   "cell_type": "code",
   "source": [
    "main_input_texts = [s for s in main_input_texts if s != '']\n",
    "socr_input_texts = [s for s in socr_input_texts if s != '']"
   ],
   "id": "7e7b724b09783f5a",
   "outputs": [],
   "execution_count": 2
  },
  {
   "metadata": {
    "ExecuteTime": {
     "end_time": "2024-04-17T08:30:29.572306Z",
     "start_time": "2024-04-17T08:20:21.478479Z"
    }
   },
   "cell_type": "code",
   "source": [
    "%%time\n",
    "codemind_results = perplexity.compute(model_id='kreimben/CodeMind-gemma',\n",
    "                                      predictions=main_input_texts)\n",
    "gemma_results = perplexity.compute(model_id='google/gemma-1.1-2b-it',\n",
    "                                   predictions=main_input_texts)"
   ],
   "id": "948c65a21982398e",
   "outputs": [
    {
     "data": {
      "text/plain": [
       "Loading checkpoint shards:   0%|          | 0/2 [00:00<?, ?it/s]"
      ],
      "application/vnd.jupyter.widget-view+json": {
       "version_major": 2,
       "version_minor": 0,
       "model_id": "f9d5b16e84a246c6a845060db470dace"
      }
     },
     "metadata": {},
     "output_type": "display_data"
    },
    {
     "data": {
      "text/plain": [
       "  0%|          | 0/83 [00:00<?, ?it/s]"
      ],
      "application/vnd.jupyter.widget-view+json": {
       "version_major": 2,
       "version_minor": 0,
       "model_id": "f2d36d3b30c74c6980aaa609b6f74e2a"
      }
     },
     "metadata": {},
     "output_type": "display_data"
    },
    {
     "name": "stderr",
     "output_type": "stream",
     "text": [
      "C:\\Users\\aksid\\PycharmProjects\\CodeMind\\venv\\lib\\site-packages\\transformers\\models\\gemma\\modeling_gemma.py:573: UserWarning: 1Torch was not compiled with flash attention. (Triggered internally at ..\\aten\\src\\ATen\\native\\transformers\\cuda\\sdp_utils.cpp:263.)\n",
      "  attn_output = torch.nn.functional.scaled_dot_product_attention(\n"
     ]
    },
    {
     "data": {
      "text/plain": [
       "Loading checkpoint shards:   0%|          | 0/2 [00:00<?, ?it/s]"
      ],
      "application/vnd.jupyter.widget-view+json": {
       "version_major": 2,
       "version_minor": 0,
       "model_id": "e049e2d6f3b14fa1bd6295cb21345968"
      }
     },
     "metadata": {},
     "output_type": "display_data"
    },
    {
     "data": {
      "text/plain": [
       "  0%|          | 0/83 [00:00<?, ?it/s]"
      ],
      "application/vnd.jupyter.widget-view+json": {
       "version_major": 2,
       "version_minor": 0,
       "model_id": "eeb2bfcc05be44f8905395d9b54a561a"
      }
     },
     "metadata": {},
     "output_type": "display_data"
    },
    {
     "name": "stdout",
     "output_type": "stream",
     "text": [
      "CPU times: total: 4min 37s\n",
      "Wall time: 10min 8s\n"
     ]
    }
   ],
   "execution_count": 3
  },
  {
   "metadata": {
    "ExecuteTime": {
     "end_time": "2024-04-17T08:30:29.588307Z",
     "start_time": "2024-04-17T08:30:29.573306Z"
    }
   },
   "cell_type": "code",
   "source": [
    "print(list(codemind_results.keys()))\n",
    "print(round(codemind_results[\"mean_perplexity\"], 2))\n",
    "print(round(codemind_results[\"perplexities\"][0], 2))"
   ],
   "id": "7f1d38109b25e23d",
   "outputs": [
    {
     "name": "stdout",
     "output_type": "stream",
     "text": [
      "['perplexities', 'mean_perplexity']\n",
      "12.66\n",
      "27.38\n"
     ]
    }
   ],
   "execution_count": 4
  },
  {
   "metadata": {
    "ExecuteTime": {
     "end_time": "2024-04-17T08:30:29.603978Z",
     "start_time": "2024-04-17T08:30:29.589308Z"
    }
   },
   "cell_type": "code",
   "source": [
    "print(list(gemma_results.keys()))\n",
    "print(round(gemma_results[\"mean_perplexity\"], 2))\n",
    "print(round(gemma_results[\"perplexities\"][0], 2))"
   ],
   "id": "4d96c6fd0613b25c",
   "outputs": [
    {
     "name": "stdout",
     "output_type": "stream",
     "text": [
      "['perplexities', 'mean_perplexity']\n",
      "12.66\n",
      "27.38\n"
     ]
    }
   ],
   "execution_count": 5
  }
 ],
 "metadata": {
  "kernelspec": {
   "display_name": "Python 3",
   "language": "python",
   "name": "python3"
  },
  "language_info": {
   "codemirror_mode": {
    "name": "ipython",
    "version": 2
   },
   "file_extension": ".py",
   "mimetype": "text/x-python",
   "name": "python",
   "nbconvert_exporter": "python",
   "pygments_lexer": "ipython2",
   "version": "2.7.6"
  }
 },
 "nbformat": 4,
 "nbformat_minor": 5
}
