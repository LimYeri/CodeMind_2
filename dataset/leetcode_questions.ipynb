{
 "cells": [
  {
   "cell_type": "code",
   "id": "initial_id",
   "metadata": {
    "collapsed": true,
    "ExecuteTime": {
     "end_time": "2024-04-06T05:45:20.004630Z",
     "start_time": "2024-04-06T05:45:19.635872Z"
    }
   },
   "source": [
    "import pandas as pd\n",
    "\n",
    "# which is actually from https://www.kaggle.com/datasets/manthansolanki/leetcode-questions\n",
    "leetcode_info = pd.read_csv('leetcode_questions.csv')\n",
    "\n",
    "print(f'{len(leetcode_info)=}')\n",
    "\n",
    "leetcode_info.drop(columns=['Similar Questions Text'], inplace=True)\n",
    "leetcode_info.rename(\n",
    "    columns={\n",
    "        'Question Slug': 'title_slug',\n",
    "        'Question ID': 'id', \n",
    "        'Question Title': 'title',\n",
    "        'Question Text': 'question_content',\n",
    "        'Topic Tagged text': 'tag',\n",
    "        'Difficulty Level': 'level',\n",
    "        'Success Rate': 'success_rate',\n",
    "        'total submission': 'total_submission',\n",
    "        'total accepted': 'total_accepted',\n",
    "        'Likes': 'question_likes',\n",
    "        'Dislikes': 'question_dislikes',\n",
    "        'Hints': 'question_hints',\n",
    "        'Similar Questions ID': 'similar_question_ids'\n",
    "    }, \n",
    "    inplace=True\n",
    ")\n",
    "\n",
    "leetcode_info.head(5)"
   ],
   "outputs": [
    {
     "name": "stdout",
     "output_type": "stream",
     "text": [
      "len(leetcode_info)=2238\n"
     ]
    },
    {
     "data": {
      "text/plain": [
       "   id                                           title  \\\n",
       "0   1                                         Two Sum   \n",
       "1   2                                 Add Two Numbers   \n",
       "2   3  Longest Substring Without Repeating Characters   \n",
       "3   4                     Median of Two Sorted Arrays   \n",
       "4   5                   Longest Palindromic Substring   \n",
       "\n",
       "                                       title_slug  \\\n",
       "0                                         two-sum   \n",
       "1                                 add-two-numbers   \n",
       "2  longest-substring-without-repeating-characters   \n",
       "3                     median-of-two-sorted-arrays   \n",
       "4                   longest-palindromic-substring   \n",
       "\n",
       "                                    question_content  \\\n",
       "0  Given an array of integers nums and an integer...   \n",
       "1  You are given two non-empty linked lists repre...   \n",
       "2  Given a string s, find the length of the longe...   \n",
       "3  Given two sorted arrays nums1 and nums2 of siz...   \n",
       "4  Given a string s, return the longest palindrom...   \n",
       "\n",
       "                                      tag   level  success_rate  \\\n",
       "0                        Array,Hash Table    Easy          48.5   \n",
       "1              Linked List,Math,Recursion  Medium          38.5   \n",
       "2        Hash Table,String,Sliding Window  Medium          33.0   \n",
       "3  Array,Binary Search,Divide and Conquer    Hard          34.0   \n",
       "4              String,Dynamic Programming  Medium          31.8   \n",
       "\n",
       "   total_submission  total_accepted  question_likes  question_dislikes  \\\n",
       "0          13207990         6403821           31242                988   \n",
       "1           6987977         2690949           17799               3682   \n",
       "2           9621884         3175843           22941               1027   \n",
       "3           3941694         1340565           15987               1964   \n",
       "4           5618701         1784028           17097               1005   \n",
       "\n",
       "                                      question_hints  \\\n",
       "0  A really brute force way would be to search fo...   \n",
       "1                                                NaN   \n",
       "2                                                NaN   \n",
       "3                                                NaN   \n",
       "4  How can we reuse a previously computed palindr...   \n",
       "\n",
       "                                similar_question_ids  \n",
       "0  15,18,167,170,560,653,1083,1798,1830,2116,2133...  \n",
       "1                        43,67,371,415,445,1031,1774  \n",
       "2                             159,340,1034,1813,2209  \n",
       "3                                                NaN  \n",
       "4                                214,266,336,516,647  "
      ],
      "text/html": [
       "<div>\n",
       "<style scoped>\n",
       "    .dataframe tbody tr th:only-of-type {\n",
       "        vertical-align: middle;\n",
       "    }\n",
       "\n",
       "    .dataframe tbody tr th {\n",
       "        vertical-align: top;\n",
       "    }\n",
       "\n",
       "    .dataframe thead th {\n",
       "        text-align: right;\n",
       "    }\n",
       "</style>\n",
       "<table border=\"1\" class=\"dataframe\">\n",
       "  <thead>\n",
       "    <tr style=\"text-align: right;\">\n",
       "      <th></th>\n",
       "      <th>id</th>\n",
       "      <th>title</th>\n",
       "      <th>title_slug</th>\n",
       "      <th>question_content</th>\n",
       "      <th>tag</th>\n",
       "      <th>level</th>\n",
       "      <th>success_rate</th>\n",
       "      <th>total_submission</th>\n",
       "      <th>total_accepted</th>\n",
       "      <th>question_likes</th>\n",
       "      <th>question_dislikes</th>\n",
       "      <th>question_hints</th>\n",
       "      <th>similar_question_ids</th>\n",
       "    </tr>\n",
       "  </thead>\n",
       "  <tbody>\n",
       "    <tr>\n",
       "      <th>0</th>\n",
       "      <td>1</td>\n",
       "      <td>Two Sum</td>\n",
       "      <td>two-sum</td>\n",
       "      <td>Given an array of integers nums and an integer...</td>\n",
       "      <td>Array,Hash Table</td>\n",
       "      <td>Easy</td>\n",
       "      <td>48.5</td>\n",
       "      <td>13207990</td>\n",
       "      <td>6403821</td>\n",
       "      <td>31242</td>\n",
       "      <td>988</td>\n",
       "      <td>A really brute force way would be to search fo...</td>\n",
       "      <td>15,18,167,170,560,653,1083,1798,1830,2116,2133...</td>\n",
       "    </tr>\n",
       "    <tr>\n",
       "      <th>1</th>\n",
       "      <td>2</td>\n",
       "      <td>Add Two Numbers</td>\n",
       "      <td>add-two-numbers</td>\n",
       "      <td>You are given two non-empty linked lists repre...</td>\n",
       "      <td>Linked List,Math,Recursion</td>\n",
       "      <td>Medium</td>\n",
       "      <td>38.5</td>\n",
       "      <td>6987977</td>\n",
       "      <td>2690949</td>\n",
       "      <td>17799</td>\n",
       "      <td>3682</td>\n",
       "      <td>NaN</td>\n",
       "      <td>43,67,371,415,445,1031,1774</td>\n",
       "    </tr>\n",
       "    <tr>\n",
       "      <th>2</th>\n",
       "      <td>3</td>\n",
       "      <td>Longest Substring Without Repeating Characters</td>\n",
       "      <td>longest-substring-without-repeating-characters</td>\n",
       "      <td>Given a string s, find the length of the longe...</td>\n",
       "      <td>Hash Table,String,Sliding Window</td>\n",
       "      <td>Medium</td>\n",
       "      <td>33.0</td>\n",
       "      <td>9621884</td>\n",
       "      <td>3175843</td>\n",
       "      <td>22941</td>\n",
       "      <td>1027</td>\n",
       "      <td>NaN</td>\n",
       "      <td>159,340,1034,1813,2209</td>\n",
       "    </tr>\n",
       "    <tr>\n",
       "      <th>3</th>\n",
       "      <td>4</td>\n",
       "      <td>Median of Two Sorted Arrays</td>\n",
       "      <td>median-of-two-sorted-arrays</td>\n",
       "      <td>Given two sorted arrays nums1 and nums2 of siz...</td>\n",
       "      <td>Array,Binary Search,Divide and Conquer</td>\n",
       "      <td>Hard</td>\n",
       "      <td>34.0</td>\n",
       "      <td>3941694</td>\n",
       "      <td>1340565</td>\n",
       "      <td>15987</td>\n",
       "      <td>1964</td>\n",
       "      <td>NaN</td>\n",
       "      <td>NaN</td>\n",
       "    </tr>\n",
       "    <tr>\n",
       "      <th>4</th>\n",
       "      <td>5</td>\n",
       "      <td>Longest Palindromic Substring</td>\n",
       "      <td>longest-palindromic-substring</td>\n",
       "      <td>Given a string s, return the longest palindrom...</td>\n",
       "      <td>String,Dynamic Programming</td>\n",
       "      <td>Medium</td>\n",
       "      <td>31.8</td>\n",
       "      <td>5618701</td>\n",
       "      <td>1784028</td>\n",
       "      <td>17097</td>\n",
       "      <td>1005</td>\n",
       "      <td>How can we reuse a previously computed palindr...</td>\n",
       "      <td>214,266,336,516,647</td>\n",
       "    </tr>\n",
       "  </tbody>\n",
       "</table>\n",
       "</div>"
      ]
     },
     "execution_count": 1,
     "metadata": {},
     "output_type": "execute_result"
    }
   ],
   "execution_count": 1
  },
  {
   "metadata": {
    "ExecuteTime": {
     "end_time": "2024-04-06T05:45:39.632675Z",
     "start_time": "2024-04-06T05:45:39.629674Z"
    }
   },
   "cell_type": "code",
   "source": [
    "datasets_id = 'kreimben/leetcode_questions'\n",
    "token = ''"
   ],
   "id": "5123e1747a4ce6b1",
   "outputs": [],
   "execution_count": 2
  },
  {
   "metadata": {
    "ExecuteTime": {
     "end_time": "2024-04-06T05:46:06.423083Z",
     "start_time": "2024-04-06T05:46:00.120700Z"
    }
   },
   "cell_type": "code",
   "source": [
    "from datasets import Dataset\n",
    "\n",
    "dataset = Dataset.from_pandas(leetcode_info)\n",
    "dataset.push_to_hub(datasets_id, token=token)"
   ],
   "id": "90efccfa49c1cae",
   "outputs": [
    {
     "data": {
      "text/plain": [
       "Uploading the dataset shards:   0%|          | 0/1 [00:00<?, ?it/s]"
      ],
      "application/vnd.jupyter.widget-view+json": {
       "version_major": 2,
       "version_minor": 0,
       "model_id": "16b7c510fe3a48f4b76e3099ef54c9a4"
      }
     },
     "metadata": {},
     "output_type": "display_data"
    },
    {
     "data": {
      "text/plain": [
       "Creating parquet from Arrow format:   0%|          | 0/3 [00:00<?, ?ba/s]"
      ],
      "application/vnd.jupyter.widget-view+json": {
       "version_major": 2,
       "version_minor": 0,
       "model_id": "cd3ae016a8d14941a4b05da3c43e7b46"
      }
     },
     "metadata": {},
     "output_type": "display_data"
    },
    {
     "data": {
      "text/plain": [
       "README.md:   0%|          | 0.00/21.0 [00:00<?, ?B/s]"
      ],
      "application/vnd.jupyter.widget-view+json": {
       "version_major": 2,
       "version_minor": 0,
       "model_id": "77aa4eb243154a6f8be720e9e48ca609"
      }
     },
     "metadata": {},
     "output_type": "display_data"
    },
    {
     "name": "stderr",
     "output_type": "stream",
     "text": [
      "C:\\Users\\aksid\\PycharmProjects\\codemind-dataset\\venv\\lib\\site-packages\\huggingface_hub\\file_download.py:148: UserWarning: `huggingface_hub` cache-system uses symlinks by default to efficiently store duplicated files but your machine does not support them in C:\\Users\\aksid\\.cache\\huggingface\\hub\\datasets--kreimben--leetcode_questions. Caching files will still work but in a degraded version that might require more space on your disk. This warning can be disabled by setting the `HF_HUB_DISABLE_SYMLINKS_WARNING` environment variable. For more details, see https://huggingface.co/docs/huggingface_hub/how-to-cache#limitations.\n",
      "To support symlinks on Windows, you either need to activate Developer Mode or to run Python as an administrator. In order to see activate developer mode, see this article: https://docs.microsoft.com/en-us/windows/apps/get-started/enable-your-device-for-development\n",
      "  warnings.warn(message)\n"
     ]
    },
    {
     "data": {
      "text/plain": [
       "CommitInfo(commit_url='https://huggingface.co/datasets/kreimben/leetcode_questions/commit/3abc5c9a057fc8aa273a98db897ea53068b46f0e', commit_message='Upload dataset', commit_description='', oid='3abc5c9a057fc8aa273a98db897ea53068b46f0e', pr_url=None, pr_revision=None, pr_num=None)"
      ]
     },
     "execution_count": 3,
     "metadata": {},
     "output_type": "execute_result"
    }
   ],
   "execution_count": 3
  },
  {
   "metadata": {},
   "cell_type": "code",
   "outputs": [],
   "execution_count": null,
   "source": "",
   "id": "547280f38b8a809c"
  }
 ],
 "metadata": {
  "kernelspec": {
   "display_name": "Python 3",
   "language": "python",
   "name": "python3"
  },
  "language_info": {
   "codemirror_mode": {
    "name": "ipython",
    "version": 2
   },
   "file_extension": ".py",
   "mimetype": "text/x-python",
   "name": "python",
   "nbconvert_exporter": "python",
   "pygments_lexer": "ipython2",
   "version": "2.7.6"
  }
 },
 "nbformat": 4,
 "nbformat_minor": 5
}
