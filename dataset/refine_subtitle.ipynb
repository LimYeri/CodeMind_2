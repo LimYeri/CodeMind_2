{
 "cells": [
  {
   "cell_type": "code",
   "outputs": [],
   "source": [
    "from datasets import load_dataset\n",
    "\n",
    "dataset = load_dataset(\"kreimben/leetcode_youtube_cc\", split='train').to_pandas()\n",
    "dataset.sample(1)"
   ],
   "metadata": {
    "collapsed": false
   },
   "id": "8c43f93a6a064505",
   "execution_count": null
  },
  {
   "cell_type": "code",
   "outputs": [],
   "source": [
    "import random\n",
    "\n",
    "N = len(dataset)\n",
    "\n",
    "idx = random.randint(0, N)\n",
    "\n",
    "exa = dataset.loc[idx, 'content']\n",
    "exa"
   ],
   "metadata": {
    "collapsed": false
   },
   "id": "6d3b1120041fe9c8",
   "execution_count": null
  },
  {
   "cell_type": "code",
   "outputs": [],
   "source": [
    "exa = exa.split('  ')"
   ],
   "metadata": {
    "collapsed": false
   },
   "id": "210b406aa882e75d",
   "execution_count": null
  },
  {
   "cell_type": "code",
   "outputs": [],
   "source": [
    "exa = exa[1:]\n",
    "exa"
   ],
   "metadata": {
    "collapsed": false
   },
   "id": "dc6ca91f2467173b",
   "execution_count": null
  },
  {
   "cell_type": "code",
   "outputs": [],
   "source": [
    "exa = [t if i % 2 == 0 else None for i, t in enumerate(exa)]\n",
    "exa"
   ],
   "metadata": {
    "collapsed": false
   },
   "id": "7b7608f4d597c043",
   "execution_count": null
  },
  {
   "cell_type": "code",
   "outputs": [],
   "source": [
    "while None in exa:\n",
    "    exa.remove(None)"
   ],
   "metadata": {
    "collapsed": false
   },
   "id": "276ff90298e4bde6",
   "execution_count": null
  },
  {
   "cell_type": "code",
   "outputs": [],
   "source": [
    "exa"
   ],
   "metadata": {
    "collapsed": false
   },
   "id": "4fc9cd58e5a439f0",
   "execution_count": null
  },
  {
   "cell_type": "code",
   "outputs": [],
   "source": [
    "exa = ' '.join(exa)\n",
    "exa"
   ],
   "metadata": {
    "collapsed": false
   },
   "id": "6d8bbcb61d2346d7",
   "execution_count": null
  },
  {
   "cell_type": "code",
   "outputs": [],
   "source": [
    "def handle_duplicated(text):\n",
    "    text = text.split('  ')\n",
    "    text = text[1:]\n",
    "    text = [t if i % 2 == 1 else None for i, t in enumerate(text)]\n",
    "    while None in text:\n",
    "        text.remove(None)\n",
    "    text = ' '.join(text)[1:]\n",
    "    text = text.replace('  ', ' ')\n",
    "    return text"
   ],
   "metadata": {
    "collapsed": false
   },
   "id": "83415483deda0f74",
   "execution_count": null
  },
  {
   "cell_type": "code",
   "outputs": [],
   "source": [
    "idx = random.randint(0, N)\n",
    "\n",
    "exa = dataset.loc[idx, 'content']\n",
    "exa"
   ],
   "metadata": {
    "collapsed": false
   },
   "id": "1a0e59d5cff9a50f",
   "execution_count": null
  },
  {
   "cell_type": "code",
   "outputs": [],
   "source": [
    "handle_duplicated(exa)"
   ],
   "metadata": {
    "collapsed": false
   },
   "id": "5729789cef4b9e33",
   "execution_count": null
  },
  {
   "cell_type": "code",
   "outputs": [],
   "source": [
    "dataset['content'] = dataset['content'].apply(handle_duplicated)\n",
    "dataset.sample(1)"
   ],
   "metadata": {
    "collapsed": false
   },
   "id": "d5d4cda714c8221c",
   "execution_count": null
  },
  {
   "cell_type": "code",
   "outputs": [],
   "source": [
    "from dotenv import load_dotenv\n",
    "from datasets import Dataset\n",
    "import os\n",
    "\n",
    "load_dotenv()\n",
    "\n",
    "dataset = Dataset.from_pandas(dataset)\n",
    "\n",
    "dataset.push_to_hub(\"kreimben/leetcode_youtube_cc\", token=os.getenv('HF_WRITE'))"
   ],
   "metadata": {
    "collapsed": false
   },
   "id": "6289b7f928ad69c0",
   "execution_count": null
  },
  {
   "cell_type": "code",
   "outputs": [],
   "source": [],
   "metadata": {
    "collapsed": false
   },
   "id": "f838f713f70b397e"
  }
 ],
 "metadata": {
  "kernelspec": {
   "display_name": "Python 3",
   "language": "python",
   "name": "python3"
  },
  "language_info": {
   "codemirror_mode": {
    "name": "ipython",
    "version": 2
   },
   "file_extension": ".py",
   "mimetype": "text/x-python",
   "name": "python",
   "nbconvert_exporter": "python",
   "pygments_lexer": "ipython2",
   "version": "2.7.6"
  }
 },
 "nbformat": 4,
 "nbformat_minor": 5
}
