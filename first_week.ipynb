{
 "cells": [
  {
   "cell_type": "code",
   "execution_count": 1,
   "id": "initial_id",
   "metadata": {
    "collapsed": true,
    "ExecuteTime": {
     "end_time": "2024-04-01T09:30:26.285451Z",
     "start_time": "2024-04-01T09:30:25.483144Z"
    }
   },
   "outputs": [],
   "source": [
    "import random\n",
    "\n",
    "import datasets\n",
    "import torch\n",
    "from langchain import hub\n",
    "from transformers import pipeline"
   ]
  },
  {
   "cell_type": "code",
   "outputs": [
    {
     "data": {
      "text/plain": "                                              cc_content   id  \\\n11457  hey so welcome back and there's another  hey s...  377   \n15257  hello everyone let's try to be a cheat  hello ...  515   \n769    hey folks welcome back to another video  hey f...  284   \n\n                                               thumbnail  \\\n11457  https://i.ytimg.com/vi/hg_U5GVEM-k/maxresdefau...   \n15257  https://i.ytimg.com/vi/SsH9p1h7Ca8/maxresdefau...   \n769     https://i.ytimg.com/vi/Q1fFspHfiZ8/sddefault.jpg   \n\n                                   title_x  \\\n11457                   Combination Sum IV   \n15257  Find Largest Value in Each Tree Row   \n769                       Peeking Iterator   \n\n                                        question_content  \\\n11457  Given an array of **distinct** integers `nums`...   \n15257  Given the `root` of a binary tree, return _an ...   \n769    Design an iterator that supports the `peek` op...   \n\n                                                    java  \\\n11457  \\n    ```java\\npublic int combinationSum(int[]...   \n15257  \\n    ```java\\nimport java.util.*;\\n\\nclass Tr...   \n769    \\n    ```java\\nimport java.util.Iterator;\\n\\nc...   \n\n                                                     c++  \\\n11457  \\n    ```cpp\\n#include <vector>\\nusing namespa...   \n15257  \\n    ```cpp\\n#include <vector>\\n#include <que...   \n769    \\n    ```cpp\\n#include <iterator>\\n\\nclass Pee...   \n\n                                                  python  \\\n11457  \\n    ```python\\ndef combination_sum(nums, tar...   \n15257  \\n    ```python\\nfrom collections import deque...   \n769    \\n    ```python\\nclass PeekingIterator:\\n    d...   \n\n                                              javascript  \\\n11457  \\n    ```javascript\\nfunction combinationSum(n...   \n15257  \\n    ```javascript\\nclass TreeNode {\\n    con...   \n769    \\n    ```javascript\\nclass PeekingIterator {\\n...   \n\n                                   title_y  \\\n11457                   Combination Sum IV   \n15257  Find Largest Value in Each Tree Row   \n769                       Peeking Iterator   \n\n                                                     tag   level  \\\n11457                          Array,Dynamic Programming  Medium   \n15257  Tree,Depth-First Search,Breadth-First Search,B...  Medium   \n769                                Array,Design,Iterator  Medium   \n\n       success_rate  total_submission  total_accepted  question_likes  \\\n11457          49.3          482241.0        237874.0          3333.0   \n15257          64.4          291567.0        187850.0          1980.0   \n769            53.6          291298.0        156171.0           994.0   \n\n       question_dislikes                                     question_hints  \\\n11457              383.0                                               None   \n15257               82.0                                               None   \n769                685.0  Think of \"looking ahead\". You want to cache th...   \n\n      similar_question_ids  \n11457                   39  \n15257                 None  \n769            173,251,281  ",
      "text/html": "<div>\n<style scoped>\n    .dataframe tbody tr th:only-of-type {\n        vertical-align: middle;\n    }\n\n    .dataframe tbody tr th {\n        vertical-align: top;\n    }\n\n    .dataframe thead th {\n        text-align: right;\n    }\n</style>\n<table border=\"1\" class=\"dataframe\">\n  <thead>\n    <tr style=\"text-align: right;\">\n      <th></th>\n      <th>cc_content</th>\n      <th>id</th>\n      <th>thumbnail</th>\n      <th>title_x</th>\n      <th>question_content</th>\n      <th>java</th>\n      <th>c++</th>\n      <th>python</th>\n      <th>javascript</th>\n      <th>title_y</th>\n      <th>tag</th>\n      <th>level</th>\n      <th>success_rate</th>\n      <th>total_submission</th>\n      <th>total_accepted</th>\n      <th>question_likes</th>\n      <th>question_dislikes</th>\n      <th>question_hints</th>\n      <th>similar_question_ids</th>\n    </tr>\n  </thead>\n  <tbody>\n    <tr>\n      <th>11457</th>\n      <td>hey so welcome back and there's another  hey s...</td>\n      <td>377</td>\n      <td>https://i.ytimg.com/vi/hg_U5GVEM-k/maxresdefau...</td>\n      <td>Combination Sum IV</td>\n      <td>Given an array of **distinct** integers `nums`...</td>\n      <td>\\n    ```java\\npublic int combinationSum(int[]...</td>\n      <td>\\n    ```cpp\\n#include &lt;vector&gt;\\nusing namespa...</td>\n      <td>\\n    ```python\\ndef combination_sum(nums, tar...</td>\n      <td>\\n    ```javascript\\nfunction combinationSum(n...</td>\n      <td>Combination Sum IV</td>\n      <td>Array,Dynamic Programming</td>\n      <td>Medium</td>\n      <td>49.3</td>\n      <td>482241.0</td>\n      <td>237874.0</td>\n      <td>3333.0</td>\n      <td>383.0</td>\n      <td>None</td>\n      <td>39</td>\n    </tr>\n    <tr>\n      <th>15257</th>\n      <td>hello everyone let's try to be a cheat  hello ...</td>\n      <td>515</td>\n      <td>https://i.ytimg.com/vi/SsH9p1h7Ca8/maxresdefau...</td>\n      <td>Find Largest Value in Each Tree Row</td>\n      <td>Given the `root` of a binary tree, return _an ...</td>\n      <td>\\n    ```java\\nimport java.util.*;\\n\\nclass Tr...</td>\n      <td>\\n    ```cpp\\n#include &lt;vector&gt;\\n#include &lt;que...</td>\n      <td>\\n    ```python\\nfrom collections import deque...</td>\n      <td>\\n    ```javascript\\nclass TreeNode {\\n    con...</td>\n      <td>Find Largest Value in Each Tree Row</td>\n      <td>Tree,Depth-First Search,Breadth-First Search,B...</td>\n      <td>Medium</td>\n      <td>64.4</td>\n      <td>291567.0</td>\n      <td>187850.0</td>\n      <td>1980.0</td>\n      <td>82.0</td>\n      <td>None</td>\n      <td>None</td>\n    </tr>\n    <tr>\n      <th>769</th>\n      <td>hey folks welcome back to another video  hey f...</td>\n      <td>284</td>\n      <td>https://i.ytimg.com/vi/Q1fFspHfiZ8/sddefault.jpg</td>\n      <td>Peeking Iterator</td>\n      <td>Design an iterator that supports the `peek` op...</td>\n      <td>\\n    ```java\\nimport java.util.Iterator;\\n\\nc...</td>\n      <td>\\n    ```cpp\\n#include &lt;iterator&gt;\\n\\nclass Pee...</td>\n      <td>\\n    ```python\\nclass PeekingIterator:\\n    d...</td>\n      <td>\\n    ```javascript\\nclass PeekingIterator {\\n...</td>\n      <td>Peeking Iterator</td>\n      <td>Array,Design,Iterator</td>\n      <td>Medium</td>\n      <td>53.6</td>\n      <td>291298.0</td>\n      <td>156171.0</td>\n      <td>994.0</td>\n      <td>685.0</td>\n      <td>Think of \"looking ahead\". You want to cache th...</td>\n      <td>173,251,281</td>\n    </tr>\n  </tbody>\n</table>\n</div>"
     },
     "execution_count": 2,
     "metadata": {},
     "output_type": "execute_result"
    }
   ],
   "source": [
    "df = datasets.load_dataset('kreimben/leetcode_with_youtube_captions')['train']\n",
    "df = df.to_pandas()\n",
    "df.sample(3)"
   ],
   "metadata": {
    "collapsed": false,
    "ExecuteTime": {
     "end_time": "2024-04-01T09:30:36.570654Z",
     "start_time": "2024-04-01T09:30:26.286329Z"
    }
   },
   "id": "462de18ad09c9d6f",
   "execution_count": 2
  },
  {
   "cell_type": "code",
   "outputs": [],
   "source": [
    "N = len(df)\n",
    "idx = random.randint(0, N)\n",
    "\n",
    "example = df.loc[idx, 'cc_content']"
   ],
   "metadata": {
    "collapsed": false,
    "ExecuteTime": {
     "end_time": "2024-04-01T09:30:36.582155Z",
     "start_time": "2024-04-01T09:30:36.571399Z"
    }
   },
   "id": "4bd7974093ce6c74",
   "execution_count": 3
  },
  {
   "cell_type": "code",
   "outputs": [],
   "source": [
    "# Load the HF pipeline using Gemma 2B from Kaggle\n",
    "pipe = pipeline(\n",
    "    \"text-generation\",\n",
    "    model='google/gemma-2b',\n",
    "    model_kwargs={\"torch_dtype\": torch.float16},\n",
    "    device='cuda',\n",
    "    max_new_tokens=1024\n",
    ")"
   ],
   "metadata": {
    "collapsed": false
   },
   "id": "182389d055a5304c"
  },
  {
   "cell_type": "code",
   "outputs": [],
   "source": [
    "messages = [\n",
    "    {\n",
    "        \"role\": \"user\",\n",
    "        \"content\": \"\"\"\n",
    "        Summarize the following text in a technical way and approaching to interprete the coding test question. \n",
    "        Focus on facts, numbers and strategies used. \n",
    "        Divide the summary in chapters, be impersonal and use bullet points:\n",
    "        \n",
    "        {}\"\"\".format(example)\n",
    "    }\n",
    "]\n",
    "\n",
    "prompt = pipe.tokenizer.apply_chat_template(messages, tokenize=False, add_generation_prompt=True)\n",
    "outputs = pipe(\n",
    "    prompt,\n",
    "    do_sample=True,\n",
    "    temperature=0.1,\n",
    "    top_k=20,\n",
    "    top_p=0.3,\n",
    "    add_special_tokens=True\n",
    ")\n",
    "res = outputs[0][\"generated_text\"][len(prompt):]"
   ],
   "metadata": {
    "collapsed": false
   },
   "id": "3b1fb2e9f1684f60"
  }
 ],
 "metadata": {
  "kernelspec": {
   "display_name": "Python 3",
   "language": "python",
   "name": "python3"
  },
  "language_info": {
   "codemirror_mode": {
    "name": "ipython",
    "version": 2
   },
   "file_extension": ".py",
   "mimetype": "text/x-python",
   "name": "python",
   "nbconvert_exporter": "python",
   "pygments_lexer": "ipython2",
   "version": "2.7.6"
  }
 },
 "nbformat": 4,
 "nbformat_minor": 5
}
