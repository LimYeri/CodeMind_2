{
 "cells": [
  {
   "cell_type": "markdown",
   "source": [
    "# Extract DSA\n",
    "\n",
    "### 유튜브 동영상에 사용된 DSA를 자막(대본)에서 추출 해 오는 스크립트 입니다."
   ],
   "metadata": {
    "collapsed": false
   },
   "id": "7bb3c35b25c31ad3"
  },
  {
   "cell_type": "code",
   "outputs": [],
   "source": [
    "# # refine the text file\n",
    "# res = []\n",
    "# with open('./examples/3sum_example.txt', 'r') as f:\n",
    "#     for next_line in f.readlines():\n",
    "#         if next_line not in res and next_line != '\\n':\n",
    "#             res.append(next_line)\n",
    "# \n",
    "# with open('./examples/3sum_example_refined.txt', 'w') as f:\n",
    "#     f.write(''.join(res))"
   ],
   "metadata": {
    "collapsed": false,
    "ExecuteTime": {
     "end_time": "2024-03-13T07:15:38.662328Z",
     "start_time": "2024-03-13T07:15:38.657588Z"
    }
   },
   "id": "c7c61cb1a6d14e7e",
   "execution_count": 1
  },
  {
   "cell_type": "code",
   "outputs": [],
   "source": [
    "from datasets import load_dataset\n",
    "import pandas as pd"
   ],
   "metadata": {
    "collapsed": false,
    "ExecuteTime": {
     "end_time": "2024-03-13T07:33:21.296048Z",
     "start_time": "2024-03-13T07:33:21.291932Z"
    }
   },
   "id": "683db1908cdea7a6",
   "execution_count": 11
  },
  {
   "cell_type": "code",
   "outputs": [],
   "source": [
    "df = pd.read_parquet(\"./datasets/cassanof-leetcode-solution.parquet\")"
   ],
   "metadata": {
    "collapsed": false,
    "ExecuteTime": {
     "end_time": "2024-03-13T07:33:33.431393Z",
     "start_time": "2024-03-13T07:33:33.315989Z"
    }
   },
   "id": "26cd0e1ce9c46c88",
   "execution_count": 12
  },
  {
   "cell_type": "code",
   "outputs": [],
   "source": [
    "# Convert the 'views' column to integers\n",
    "df[\"views\"] = df[\"views\"].astype(int)"
   ],
   "metadata": {
    "collapsed": false,
    "ExecuteTime": {
     "end_time": "2024-03-13T07:33:39.939508Z",
     "start_time": "2024-03-13T07:33:39.936793Z"
    }
   },
   "id": "cc1bebcac3dbf8e1",
   "execution_count": 13
  },
  {
   "cell_type": "code",
   "outputs": [],
   "source": [
    "# Save the DataFrame to a CSV file\n",
    "output_path = \"./datasets/cassanof-leetcode-solution.csv\"\n",
    "df.to_csv(output_path, index=False)"
   ],
   "metadata": {
    "collapsed": false,
    "ExecuteTime": {
     "end_time": "2024-03-13T07:34:05.349912Z",
     "start_time": "2024-03-13T07:34:04.973246Z"
    }
   },
   "id": "98d8bfb17c157919",
   "execution_count": 15
  },
  {
   "cell_type": "code",
   "outputs": [
    {
     "data": {
      "text/plain": "                                               post_href  \\\n16127  https://leetcode.com/problems/broken-calculato...   \n28824  https://leetcode.com/problems/find-target-indi...   \n33460  https://leetcode.com/problems/count-number-of-...   \n15701  https://leetcode.com/problems/flip-binary-tree...   \n7389   https://leetcode.com/problems/partition-equal-...   \n15998  https://leetcode.com/problems/interval-list-in...   \n26310  https://leetcode.com/problems/maximum-element-...   \n27146  https://leetcode.com/problems/count-square-sum...   \n17914  https://leetcode.com/problems/number-of-dice-r...   \n16534  https://leetcode.com/problems/pairs-of-songs-w...   \n\n                                        python_solutions  \\\n16127  class Solution:\\n    def brokenCalc(self, x: i...   \n28824  class Solution:\\n    def targetIndices(self, n...   \n33460  class Solution:\\n    def countDistinctIntegers...   \n15701  class Solution:\\n    def flipMatchVoyage(self,...   \n7389   class Solution:\\n    def canPartition(self, nu...   \n15998  class Solution:\\n    def intervalIntersection(...   \n26310  class Solution:\\n    def maximumElementAfterDe...   \n27146  class Solution:\\n    def countTriples(self, n:...   \n17914  class Solution:\\n    def numRollsToTarget(self...   \n16534  class Solution:\\n    def numPairsDivisibleBy60...   \n\n                                                    slug  \\\n16127                                  broken-calculator   \n28824            find-target-indices-after-sorting-array   \n33460  count-number-of-distinct-integers-after-revers...   \n15701       flip-binary-tree-to-match-preorder-traversal   \n7389                          partition-equal-subset-sum   \n15998                        interval-list-intersections   \n26310   maximum-element-after-decreasing-and-rearranging   \n27146                           count-square-sum-triples   \n17914               number-of-dice-rolls-with-target-sum   \n16534  pairs-of-songs-with-total-durations-divisible-...   \n\n                                              post_title         user  \\\n16127                     Easy & Clear Solution Python 3      moazmar   \n28824                        1 line easy code in Python3         DNST   \n33460  [Python Answer🤫🐍🐍🐍]  Set and string reverse An...         xmky   \n15701                            [Python3] recursive dfs         ye15   \n7389   [Python] DP & DFS Solutions - Easy-to-understa...   zayne-siew   \n15998  Python | Using two pointers | 99% faster submi...      __Asrar   \n26310   [Python] O(N) Time and Space. Easy to understand     JummyEgg   \n27146                              [Python3] enumeration         ye15   \n17914                                Python bottom-up DP  sticky_bits   \n16534  Runtime faster than 91.92% , Memory Usage less...        narry   \n\n       upvotes  views                                      problem_title  \\\n16127        2    182                                  broken calculator   \n28824        0      1            find target indices after sorting array   \n33460        0      6  count number of distinct integers after revers...   \n15701       -1     92       flip binary tree to match preorder traversal   \n7389        38   5800                         partition equal subset sum   \n15998        2     82                        interval list intersections   \n26310        1    205   maximum element after decreasing and rearranging   \n27146        1    125                           count square sum triples   \n17914        0    113               number of dice rolls with target sum   \n16534        0    123  pairs of songs with total durations divisible ...   \n\n       number  acceptance difficulty  \n16127     991       0.541     Medium  \n28824    2089       0.766       Easy  \n33460    2442       0.788     Medium  \n15701     971       0.499     Medium  \n7389      416       0.466     Medium  \n15998     986       0.714     Medium  \n26310    1846       0.591     Medium  \n27146    1925       0.680       Easy  \n17914    1155       0.536     Medium  \n16534    1010       0.529     Medium  ",
      "text/html": "<div>\n<style scoped>\n    .dataframe tbody tr th:only-of-type {\n        vertical-align: middle;\n    }\n\n    .dataframe tbody tr th {\n        vertical-align: top;\n    }\n\n    .dataframe thead th {\n        text-align: right;\n    }\n</style>\n<table border=\"1\" class=\"dataframe\">\n  <thead>\n    <tr style=\"text-align: right;\">\n      <th></th>\n      <th>post_href</th>\n      <th>python_solutions</th>\n      <th>slug</th>\n      <th>post_title</th>\n      <th>user</th>\n      <th>upvotes</th>\n      <th>views</th>\n      <th>problem_title</th>\n      <th>number</th>\n      <th>acceptance</th>\n      <th>difficulty</th>\n    </tr>\n  </thead>\n  <tbody>\n    <tr>\n      <th>16127</th>\n      <td>https://leetcode.com/problems/broken-calculato...</td>\n      <td>class Solution:\\n    def brokenCalc(self, x: i...</td>\n      <td>broken-calculator</td>\n      <td>Easy &amp; Clear Solution Python 3</td>\n      <td>moazmar</td>\n      <td>2</td>\n      <td>182</td>\n      <td>broken calculator</td>\n      <td>991</td>\n      <td>0.541</td>\n      <td>Medium</td>\n    </tr>\n    <tr>\n      <th>28824</th>\n      <td>https://leetcode.com/problems/find-target-indi...</td>\n      <td>class Solution:\\n    def targetIndices(self, n...</td>\n      <td>find-target-indices-after-sorting-array</td>\n      <td>1 line easy code in Python3</td>\n      <td>DNST</td>\n      <td>0</td>\n      <td>1</td>\n      <td>find target indices after sorting array</td>\n      <td>2089</td>\n      <td>0.766</td>\n      <td>Easy</td>\n    </tr>\n    <tr>\n      <th>33460</th>\n      <td>https://leetcode.com/problems/count-number-of-...</td>\n      <td>class Solution:\\n    def countDistinctIntegers...</td>\n      <td>count-number-of-distinct-integers-after-revers...</td>\n      <td>[Python Answer🤫🐍🐍🐍]  Set and string reverse An...</td>\n      <td>xmky</td>\n      <td>0</td>\n      <td>6</td>\n      <td>count number of distinct integers after revers...</td>\n      <td>2442</td>\n      <td>0.788</td>\n      <td>Medium</td>\n    </tr>\n    <tr>\n      <th>15701</th>\n      <td>https://leetcode.com/problems/flip-binary-tree...</td>\n      <td>class Solution:\\n    def flipMatchVoyage(self,...</td>\n      <td>flip-binary-tree-to-match-preorder-traversal</td>\n      <td>[Python3] recursive dfs</td>\n      <td>ye15</td>\n      <td>-1</td>\n      <td>92</td>\n      <td>flip binary tree to match preorder traversal</td>\n      <td>971</td>\n      <td>0.499</td>\n      <td>Medium</td>\n    </tr>\n    <tr>\n      <th>7389</th>\n      <td>https://leetcode.com/problems/partition-equal-...</td>\n      <td>class Solution:\\n    def canPartition(self, nu...</td>\n      <td>partition-equal-subset-sum</td>\n      <td>[Python] DP &amp; DFS Solutions - Easy-to-understa...</td>\n      <td>zayne-siew</td>\n      <td>38</td>\n      <td>5800</td>\n      <td>partition equal subset sum</td>\n      <td>416</td>\n      <td>0.466</td>\n      <td>Medium</td>\n    </tr>\n    <tr>\n      <th>15998</th>\n      <td>https://leetcode.com/problems/interval-list-in...</td>\n      <td>class Solution:\\n    def intervalIntersection(...</td>\n      <td>interval-list-intersections</td>\n      <td>Python | Using two pointers | 99% faster submi...</td>\n      <td>__Asrar</td>\n      <td>2</td>\n      <td>82</td>\n      <td>interval list intersections</td>\n      <td>986</td>\n      <td>0.714</td>\n      <td>Medium</td>\n    </tr>\n    <tr>\n      <th>26310</th>\n      <td>https://leetcode.com/problems/maximum-element-...</td>\n      <td>class Solution:\\n    def maximumElementAfterDe...</td>\n      <td>maximum-element-after-decreasing-and-rearranging</td>\n      <td>[Python] O(N) Time and Space. Easy to understand</td>\n      <td>JummyEgg</td>\n      <td>1</td>\n      <td>205</td>\n      <td>maximum element after decreasing and rearranging</td>\n      <td>1846</td>\n      <td>0.591</td>\n      <td>Medium</td>\n    </tr>\n    <tr>\n      <th>27146</th>\n      <td>https://leetcode.com/problems/count-square-sum...</td>\n      <td>class Solution:\\n    def countTriples(self, n:...</td>\n      <td>count-square-sum-triples</td>\n      <td>[Python3] enumeration</td>\n      <td>ye15</td>\n      <td>1</td>\n      <td>125</td>\n      <td>count square sum triples</td>\n      <td>1925</td>\n      <td>0.680</td>\n      <td>Easy</td>\n    </tr>\n    <tr>\n      <th>17914</th>\n      <td>https://leetcode.com/problems/number-of-dice-r...</td>\n      <td>class Solution:\\n    def numRollsToTarget(self...</td>\n      <td>number-of-dice-rolls-with-target-sum</td>\n      <td>Python bottom-up DP</td>\n      <td>sticky_bits</td>\n      <td>0</td>\n      <td>113</td>\n      <td>number of dice rolls with target sum</td>\n      <td>1155</td>\n      <td>0.536</td>\n      <td>Medium</td>\n    </tr>\n    <tr>\n      <th>16534</th>\n      <td>https://leetcode.com/problems/pairs-of-songs-w...</td>\n      <td>class Solution:\\n    def numPairsDivisibleBy60...</td>\n      <td>pairs-of-songs-with-total-durations-divisible-...</td>\n      <td>Runtime faster than 91.92% , Memory Usage less...</td>\n      <td>narry</td>\n      <td>0</td>\n      <td>123</td>\n      <td>pairs of songs with total durations divisible ...</td>\n      <td>1010</td>\n      <td>0.529</td>\n      <td>Medium</td>\n    </tr>\n  </tbody>\n</table>\n</div>"
     },
     "execution_count": 16,
     "metadata": {},
     "output_type": "execute_result"
    }
   ],
   "source": [
    "df.sample(10)"
   ],
   "metadata": {
    "collapsed": false,
    "ExecuteTime": {
     "end_time": "2024-03-13T07:34:28.436147Z",
     "start_time": "2024-03-13T07:34:28.406877Z"
    }
   },
   "id": "9b9ecdad2fd254d7",
   "execution_count": 16
  },
  {
   "cell_type": "code",
   "outputs": [],
   "source": [],
   "metadata": {
    "collapsed": false
   },
   "id": "c94d91e84f3726f2"
  }
 ],
 "metadata": {
  "kernelspec": {
   "display_name": "Python 3",
   "language": "python",
   "name": "python3"
  },
  "language_info": {
   "codemirror_mode": {
    "name": "ipython",
    "version": 2
   },
   "file_extension": ".py",
   "mimetype": "text/x-python",
   "name": "python",
   "nbconvert_exporter": "python",
   "pygments_lexer": "ipython2",
   "version": "2.7.6"
  }
 },
 "nbformat": 4,
 "nbformat_minor": 5
}
