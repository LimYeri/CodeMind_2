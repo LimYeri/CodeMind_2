{
 "cells": [
  {
   "cell_type": "markdown",
   "source": [
    "# Extract DSA\n",
    "\n",
    "### 유튜브 동영상에 사용된 DSA를 자막(대본)에서 추출 해 오는 스크립트 입니다."
   ],
   "metadata": {
    "collapsed": false
   },
   "id": "7bb3c35b25c31ad3"
  },
  {
   "cell_type": "code",
   "outputs": [],
   "source": [
    "# # refine the text file\n",
    "# res = []\n",
    "# with open('./examples/3sum_example.txt', 'r') as f:\n",
    "#     for next_line in f.readlines():\n",
    "#         if next_line not in res and next_line != '\\n':\n",
    "#             res.append(next_line)\n",
    "# \n",
    "# with open('./examples/3sum_example_refined.txt', 'w') as f:\n",
    "#     f.write(''.join(res))"
   ],
   "metadata": {
    "collapsed": false
   },
   "id": "c7c61cb1a6d14e7e",
   "execution_count": null
  },
  {
   "cell_type": "code",
   "outputs": [],
   "source": [
    "from datasets import load_dataset\n",
    "import pandas as pd"
   ],
   "metadata": {
    "collapsed": false
   },
   "id": "683db1908cdea7a6",
   "execution_count": null
  },
  {
   "cell_type": "code",
   "outputs": [],
   "source": [
    "df = pd.read_parquet(\"./datasets/cassanof-leetcode-solution.parquet\")"
   ],
   "metadata": {
    "collapsed": false
   },
   "id": "26cd0e1ce9c46c88",
   "execution_count": null
  },
  {
   "cell_type": "code",
   "outputs": [],
   "source": [
    "df.sample(5)"
   ],
   "metadata": {
    "collapsed": false
   },
   "id": "76034cf5c1c389c7",
   "execution_count": null
  },
  {
   "cell_type": "code",
   "outputs": [],
   "source": [
    "# remove redundant field.\n",
    "df.drop([''], axis=1, inplace=True)"
   ],
   "metadata": {
    "collapsed": false
   },
   "id": "bef7da5c031e9133"
  },
  {
   "cell_type": "code",
   "outputs": [],
   "source": [
    "# Convert the 'views' column to integers\n",
    "df[\"views\"] = df[\"views\"].astype(int)"
   ],
   "metadata": {
    "collapsed": false
   },
   "id": "cc1bebcac3dbf8e1",
   "execution_count": null
  },
  {
   "cell_type": "code",
   "outputs": [],
   "source": [
    "# Save the DataFrame to a CSV file\n",
    "output_path = \"./datasets/cassanof-leetcode-solution.csv\"\n",
    "df.to_csv(output_path, index=False)"
   ],
   "metadata": {
    "collapsed": false
   },
   "id": "98d8bfb17c157919",
   "execution_count": null
  },
  {
   "cell_type": "code",
   "outputs": [],
   "source": [
    "df.sample(10)"
   ],
   "metadata": {
    "collapsed": false
   },
   "id": "9b9ecdad2fd254d7",
   "execution_count": null
  },
  {
   "cell_type": "code",
   "outputs": [],
   "source": [],
   "metadata": {
    "collapsed": false
   },
   "id": "c94d91e84f3726f2"
  }
 ],
 "metadata": {
  "kernelspec": {
   "display_name": "Python 3",
   "language": "python",
   "name": "python3"
  },
  "language_info": {
   "codemirror_mode": {
    "name": "ipython",
    "version": 2
   },
   "file_extension": ".py",
   "mimetype": "text/x-python",
   "name": "python",
   "nbconvert_exporter": "python",
   "pygments_lexer": "ipython2",
   "version": "2.7.6"
  }
 },
 "nbformat": 4,
 "nbformat_minor": 5
}
