{
 "cells": [
  {
   "cell_type": "code",
   "execution_count": 1,
   "id": "initial_id",
   "metadata": {
    "collapsed": true,
    "ExecuteTime": {
     "end_time": "2024-04-02T11:21:46.734369Z",
     "start_time": "2024-04-02T11:21:43.081672Z"
    }
   },
   "outputs": [],
   "source": [
    "import os\n",
    "\n",
    "import datasets\n",
    "import torch\n",
    "from transformers import pipeline"
   ]
  },
  {
   "cell_type": "code",
   "outputs": [
    {
     "data": {
      "text/plain": "                                              cc_content    id  \\\n15967  alright guys welcome back to study plan  alrig...   303   \n9093   okay let's talk about path sum too so  okay le...   113   \n10434  hey everyone welcome back to another  hey ever...  1816   \n\n                                               thumbnail  \\\n15967   https://i.ytimg.com/vi/Ah1M05f0zug/sddefault.jpg   \n9093    https://i.ytimg.com/vi/yKuc4CM1iQo/sddefault.jpg   \n10434  https://i.ytimg.com/vi_webp/jLqIDIOXGgI/maxres...   \n\n                           title_x  \\\n15967  Range Sum Query - Immutable   \n9093                   Path Sum II   \n10434            Truncate Sentence   \n\n                                        question_content  \\\n15967  Given an integer array `nums`, handle multiple...   \n9093   Given the `root` of a binary tree and an integ...   \n10434  A **sentence** is a list of words that are sep...   \n\n                                                    java  \\\n15967  \\n    ```java\\nclass NumArray {\\n    int[] pSu...   \n9093   \\n    ```java\\nimport java.util.List;\\nimport ...   \n10434  \\n    ```java\\nclass Solution {\\n    public St...   \n\n                                                     c++  \\\n15967  \\n    ```cpp\\n#include <vector>\\n\\nclass NumAr...   \n9093   \\n    ```cpp\\nstruct TreeNode {\\n    int val;\\...   \n10434  \\n    ```cpp\\n#include <string>\\n#include <sst...   \n\n                                                  python  \\\n15967  \\n    ```python\\nclass NumArray:\\n\\n    def __...   \n9093   \\n    ```python\\nclass TreeNode:\\n    def __in...   \n10434  \\n    ```python\\ndef truncateSentence(s: str, ...   \n\n                                              javascript  \\\n15967  \\n    ```javascript\\nclass NumArray {\\n    con...   \n9093   \\n    ```javascript\\nclass TreeNode {\\n    con...   \n10434  \\n    ```javascript\\nfunction truncateSentence...   \n\n                                          title_y  \\\n15967                 Range Sum Query - Immutable   \n9093                                  Path Sum II   \n10434  Lowest Common Ancestor of a Binary Tree IV   \n\n                                                    tag   level  success_rate  \\\n15967                           Array,Design,Prefix Sum    Easy          55.2   \n9093   Backtracking,Tree,Depth-First Search,Binary Tree  Medium          53.9   \n10434               Tree,Depth-First Search,Binary Tree  Medium          79.4   \n\n       total_submission  total_accepted  question_likes  question_dislikes  \\\n15967          628000.0        346813.0          1928.0             1641.0   \n9093          1052748.0        567301.0          4603.0              109.0   \n10434           25459.0         20221.0           283.0                9.0   \n\n                                          question_hints  \\\n15967                                               None   \n9093                                                None   \n10434  Starting from the root, traverse the left and ...   \n\n              similar_question_ids  \n15967                  304,307,325  \n9093          112,257,437,666,2217  \n10434  235,236,1218,1780,1790,1816  ",
      "text/html": "<div>\n<style scoped>\n    .dataframe tbody tr th:only-of-type {\n        vertical-align: middle;\n    }\n\n    .dataframe tbody tr th {\n        vertical-align: top;\n    }\n\n    .dataframe thead th {\n        text-align: right;\n    }\n</style>\n<table border=\"1\" class=\"dataframe\">\n  <thead>\n    <tr style=\"text-align: right;\">\n      <th></th>\n      <th>cc_content</th>\n      <th>id</th>\n      <th>thumbnail</th>\n      <th>title_x</th>\n      <th>question_content</th>\n      <th>java</th>\n      <th>c++</th>\n      <th>python</th>\n      <th>javascript</th>\n      <th>title_y</th>\n      <th>tag</th>\n      <th>level</th>\n      <th>success_rate</th>\n      <th>total_submission</th>\n      <th>total_accepted</th>\n      <th>question_likes</th>\n      <th>question_dislikes</th>\n      <th>question_hints</th>\n      <th>similar_question_ids</th>\n    </tr>\n  </thead>\n  <tbody>\n    <tr>\n      <th>15967</th>\n      <td>alright guys welcome back to study plan  alrig...</td>\n      <td>303</td>\n      <td>https://i.ytimg.com/vi/Ah1M05f0zug/sddefault.jpg</td>\n      <td>Range Sum Query - Immutable</td>\n      <td>Given an integer array `nums`, handle multiple...</td>\n      <td>\\n    ```java\\nclass NumArray {\\n    int[] pSu...</td>\n      <td>\\n    ```cpp\\n#include &lt;vector&gt;\\n\\nclass NumAr...</td>\n      <td>\\n    ```python\\nclass NumArray:\\n\\n    def __...</td>\n      <td>\\n    ```javascript\\nclass NumArray {\\n    con...</td>\n      <td>Range Sum Query - Immutable</td>\n      <td>Array,Design,Prefix Sum</td>\n      <td>Easy</td>\n      <td>55.2</td>\n      <td>628000.0</td>\n      <td>346813.0</td>\n      <td>1928.0</td>\n      <td>1641.0</td>\n      <td>None</td>\n      <td>304,307,325</td>\n    </tr>\n    <tr>\n      <th>9093</th>\n      <td>okay let's talk about path sum too so  okay le...</td>\n      <td>113</td>\n      <td>https://i.ytimg.com/vi/yKuc4CM1iQo/sddefault.jpg</td>\n      <td>Path Sum II</td>\n      <td>Given the `root` of a binary tree and an integ...</td>\n      <td>\\n    ```java\\nimport java.util.List;\\nimport ...</td>\n      <td>\\n    ```cpp\\nstruct TreeNode {\\n    int val;\\...</td>\n      <td>\\n    ```python\\nclass TreeNode:\\n    def __in...</td>\n      <td>\\n    ```javascript\\nclass TreeNode {\\n    con...</td>\n      <td>Path Sum II</td>\n      <td>Backtracking,Tree,Depth-First Search,Binary Tree</td>\n      <td>Medium</td>\n      <td>53.9</td>\n      <td>1052748.0</td>\n      <td>567301.0</td>\n      <td>4603.0</td>\n      <td>109.0</td>\n      <td>None</td>\n      <td>112,257,437,666,2217</td>\n    </tr>\n    <tr>\n      <th>10434</th>\n      <td>hey everyone welcome back to another  hey ever...</td>\n      <td>1816</td>\n      <td>https://i.ytimg.com/vi_webp/jLqIDIOXGgI/maxres...</td>\n      <td>Truncate Sentence</td>\n      <td>A **sentence** is a list of words that are sep...</td>\n      <td>\\n    ```java\\nclass Solution {\\n    public St...</td>\n      <td>\\n    ```cpp\\n#include &lt;string&gt;\\n#include &lt;sst...</td>\n      <td>\\n    ```python\\ndef truncateSentence(s: str, ...</td>\n      <td>\\n    ```javascript\\nfunction truncateSentence...</td>\n      <td>Lowest Common Ancestor of a Binary Tree IV</td>\n      <td>Tree,Depth-First Search,Binary Tree</td>\n      <td>Medium</td>\n      <td>79.4</td>\n      <td>25459.0</td>\n      <td>20221.0</td>\n      <td>283.0</td>\n      <td>9.0</td>\n      <td>Starting from the root, traverse the left and ...</td>\n      <td>235,236,1218,1780,1790,1816</td>\n    </tr>\n  </tbody>\n</table>\n</div>"
     },
     "execution_count": 2,
     "metadata": {},
     "output_type": "execute_result"
    }
   ],
   "source": [
    "df = datasets.load_dataset('kreimben/leetcode_with_youtube_captions')['train']\n",
    "df = df.to_pandas()\n",
    "df.sample(3)"
   ],
   "metadata": {
    "collapsed": false,
    "ExecuteTime": {
     "end_time": "2024-04-02T11:21:52.449074Z",
     "start_time": "2024-04-02T11:21:46.736370Z"
    }
   },
   "id": "462de18ad09c9d6f",
   "execution_count": 2
  },
  {
   "cell_type": "code",
   "outputs": [],
   "source": [
    "# example = df[df['id'] == 1]['cc_content']\n",
    "# example.sample(3)"
   ],
   "metadata": {
    "collapsed": false,
    "ExecuteTime": {
     "end_time": "2024-04-02T11:21:52.464582Z",
     "start_time": "2024-04-02T11:21:52.450075Z"
    }
   },
   "id": "4bd7974093ce6c74",
   "execution_count": 3
  },
  {
   "cell_type": "code",
   "outputs": [],
   "source": [
    "# N = len(example)\n",
    "# idx = random.randint(0, N)\n",
    "# \n",
    "# example_yt_cc = example.values[idx]\n",
    "# example_yt_cc"
   ],
   "metadata": {
    "collapsed": false,
    "ExecuteTime": {
     "end_time": "2024-04-02T11:21:52.480619Z",
     "start_time": "2024-04-02T11:21:52.466582Z"
    }
   },
   "id": "32c69089997ee865",
   "execution_count": 4
  },
  {
   "cell_type": "code",
   "outputs": [
    {
     "name": "stderr",
     "output_type": "stream",
     "text": [
      "If you want to use `BertLMHeadModel` as a standalone, add `is_decoder=True.`\n"
     ]
    }
   ],
   "source": [
    "# Load the HF pipeline using Gemma 2B from Kaggle\n",
    "pipe = pipeline(\n",
    "    \"text-generation\",\n",
    "    model='bert-large-uncased',\n",
    "    model_kwargs={\"torch_dtype\": torch.float16},\n",
    "    device='cuda',\n",
    "    max_new_tokens=512,\n",
    "    token=os.getenv('HF_API')\n",
    ")"
   ],
   "metadata": {
    "collapsed": false,
    "ExecuteTime": {
     "end_time": "2024-04-02T11:21:54.400141Z",
     "start_time": "2024-04-02T11:21:52.481620Z"
    }
   },
   "id": "e809ca2259584341",
   "execution_count": 5
  },
  {
   "cell_type": "code",
   "outputs": [],
   "source": [
    "prompt = \"\"\"\n",
    "You are a teacher who teaches coding tests to users.\n",
    "You should explain the algorithm for the coding test problem to the user in detail.\n",
    "separate the steps but keep it detailed.\n",
    "let's think step by step.\n",
    "\"\"\""
   ],
   "metadata": {
    "collapsed": false,
    "ExecuteTime": {
     "end_time": "2024-04-02T11:21:54.416187Z",
     "start_time": "2024-04-02T11:21:54.401141Z"
    }
   },
   "id": "33e02fa3461fc3dd",
   "execution_count": 6
  },
  {
   "cell_type": "code",
   "outputs": [],
   "source": [
    "def summarize_example(text):\n",
    "    global prompt\n",
    "    max_input_length = 200  # Reducing input length for stricter truncation\n",
    "    max_output_length = 512\n",
    "\n",
    "    chunks = [text[i:i + max_input_length] for i in range(0, len(text), max_input_length)]\n",
    "\n",
    "    summaries = []\n",
    "    for chunk in chunks:\n",
    "        input_text = f\"{prompt}\\n\\n{chunk}\"\n",
    "        inputs = pipe.tokenizer(input_text, truncation=True, max_length=max_input_length, return_tensors=\"pt\")\n",
    "\n",
    "        # Ensure compatibility between output length and input constraints\n",
    "        max_new_tokens = min(max_output_length, max_input_length - len(inputs['input_ids'][0]))  \n",
    "\n",
    "        outputs = pipe(\n",
    "            input_text,\n",
    "            do_sample=True,\n",
    "            temperature=0.1,\n",
    "            top_k=5,\n",
    "            top_p=0.3,\n",
    "            max_new_tokens=max_new_tokens,\n",
    "            pad_token_id=pipe.tokenizer.eos_token_id,\n",
    "        )\n",
    "\n",
    "        summary = outputs[0][\"generated_text\"]\n",
    "        summaries.append(summary)\n",
    "\n",
    "    return \" \".join(summaries)\n"
   ],
   "metadata": {
    "collapsed": false,
    "ExecuteTime": {
     "end_time": "2024-04-02T11:34:46.334631Z",
     "start_time": "2024-04-02T11:34:46.321442Z"
    }
   },
   "id": "d9e112068fae3d85",
   "execution_count": 17
  },
  {
   "cell_type": "code",
   "outputs": [
    {
     "name": "stderr",
     "output_type": "stream",
     "text": [
      "--- Logging error ---\n",
      "Traceback (most recent call last):\n",
      "  File \"C:\\Users\\aksid\\AppData\\Local\\Programs\\Python\\Python310\\lib\\logging\\__init__.py\", line 1100, in emit\n",
      "    msg = self.format(record)\n",
      "  File \"C:\\Users\\aksid\\AppData\\Local\\Programs\\Python\\Python310\\lib\\logging\\__init__.py\", line 943, in format\n",
      "    return fmt.format(record)\n",
      "  File \"C:\\Users\\aksid\\AppData\\Local\\Programs\\Python\\Python310\\lib\\logging\\__init__.py\", line 678, in format\n",
      "    record.message = record.getMessage()\n",
      "  File \"C:\\Users\\aksid\\AppData\\Local\\Programs\\Python\\Python310\\lib\\logging\\__init__.py\", line 368, in getMessage\n",
      "    msg = msg % self.args\n",
      "TypeError: not all arguments converted during string formatting\n",
      "Call stack:\n",
      "  File \"C:\\Users\\aksid\\AppData\\Local\\Programs\\Python\\Python310\\lib\\runpy.py\", line 196, in _run_module_as_main\n",
      "    return _run_code(code, main_globals, None,\n",
      "  File \"C:\\Users\\aksid\\AppData\\Local\\Programs\\Python\\Python310\\lib\\runpy.py\", line 86, in _run_code\n",
      "    exec(code, run_globals)\n",
      "  File \"C:\\Users\\aksid\\PycharmProjects\\CodeMind\\venv\\lib\\site-packages\\ipykernel_launcher.py\", line 18, in <module>\n",
      "    app.launch_new_instance()\n",
      "  File \"C:\\Users\\aksid\\PycharmProjects\\CodeMind\\venv\\lib\\site-packages\\traitlets\\config\\application.py\", line 1075, in launch_instance\n",
      "    app.start()\n",
      "  File \"C:\\Users\\aksid\\PycharmProjects\\CodeMind\\venv\\lib\\site-packages\\ipykernel\\kernelapp.py\", line 739, in start\n",
      "    self.io_loop.start()\n",
      "  File \"C:\\Users\\aksid\\PycharmProjects\\CodeMind\\venv\\lib\\site-packages\\tornado\\platform\\asyncio.py\", line 205, in start\n",
      "    self.asyncio_loop.run_forever()\n",
      "  File \"C:\\Users\\aksid\\AppData\\Local\\Programs\\Python\\Python310\\lib\\asyncio\\base_events.py\", line 603, in run_forever\n",
      "    self._run_once()\n",
      "  File \"C:\\Users\\aksid\\AppData\\Local\\Programs\\Python\\Python310\\lib\\asyncio\\base_events.py\", line 1909, in _run_once\n",
      "    handle._run()\n",
      "  File \"C:\\Users\\aksid\\AppData\\Local\\Programs\\Python\\Python310\\lib\\asyncio\\events.py\", line 80, in _run\n",
      "    self._context.run(self._callback, *self._args)\n",
      "  File \"C:\\Users\\aksid\\PycharmProjects\\CodeMind\\venv\\lib\\site-packages\\ipykernel\\kernelbase.py\", line 545, in dispatch_queue\n",
      "    await self.process_one()\n",
      "  File \"C:\\Users\\aksid\\PycharmProjects\\CodeMind\\venv\\lib\\site-packages\\ipykernel\\kernelbase.py\", line 534, in process_one\n",
      "    await dispatch(*args)\n",
      "  File \"C:\\Users\\aksid\\PycharmProjects\\CodeMind\\venv\\lib\\site-packages\\ipykernel\\kernelbase.py\", line 437, in dispatch_shell\n",
      "    await result\n",
      "  File \"C:\\Users\\aksid\\PycharmProjects\\CodeMind\\venv\\lib\\site-packages\\ipykernel\\ipkernel.py\", line 362, in execute_request\n",
      "    await super().execute_request(stream, ident, parent)\n",
      "  File \"C:\\Users\\aksid\\PycharmProjects\\CodeMind\\venv\\lib\\site-packages\\ipykernel\\kernelbase.py\", line 778, in execute_request\n",
      "    reply_content = await reply_content\n",
      "  File \"C:\\Users\\aksid\\PycharmProjects\\CodeMind\\venv\\lib\\site-packages\\ipykernel\\ipkernel.py\", line 449, in do_execute\n",
      "    res = shell.run_cell(\n",
      "  File \"C:\\Users\\aksid\\PycharmProjects\\CodeMind\\venv\\lib\\site-packages\\ipykernel\\zmqshell.py\", line 549, in run_cell\n",
      "    return super().run_cell(*args, **kwargs)\n",
      "  File \"C:\\Users\\aksid\\PycharmProjects\\CodeMind\\venv\\lib\\site-packages\\IPython\\core\\interactiveshell.py\", line 3075, in run_cell\n",
      "    result = self._run_cell(\n",
      "  File \"C:\\Users\\aksid\\PycharmProjects\\CodeMind\\venv\\lib\\site-packages\\IPython\\core\\interactiveshell.py\", line 3130, in _run_cell\n",
      "    result = runner(coro)\n",
      "  File \"C:\\Users\\aksid\\PycharmProjects\\CodeMind\\venv\\lib\\site-packages\\IPython\\core\\async_helpers.py\", line 129, in _pseudo_sync_runner\n",
      "    coro.send(None)\n",
      "  File \"C:\\Users\\aksid\\PycharmProjects\\CodeMind\\venv\\lib\\site-packages\\IPython\\core\\interactiveshell.py\", line 3334, in run_cell_async\n",
      "    has_raised = await self.run_ast_nodes(code_ast.body, cell_name,\n",
      "  File \"C:\\Users\\aksid\\PycharmProjects\\CodeMind\\venv\\lib\\site-packages\\IPython\\core\\interactiveshell.py\", line 3517, in run_ast_nodes\n",
      "    if await self.run_code(code, result, async_=asy):\n",
      "  File \"C:\\Users\\aksid\\PycharmProjects\\CodeMind\\venv\\lib\\site-packages\\IPython\\core\\interactiveshell.py\", line 3577, in run_code\n",
      "    exec(code_obj, self.user_global_ns, self.user_ns)\n",
      "  File \"C:\\Users\\aksid\\AppData\\Local\\Temp\\ipykernel_868\\2904339241.py\", line 1, in <module>\n",
      "    df['summary'] = df['cc_content'].apply(summarize_example)\n",
      "  File \"C:\\Users\\aksid\\PycharmProjects\\CodeMind\\venv\\lib\\site-packages\\pandas\\core\\series.py\", line 4915, in apply\n",
      "    ).apply()\n",
      "  File \"C:\\Users\\aksid\\PycharmProjects\\CodeMind\\venv\\lib\\site-packages\\pandas\\core\\apply.py\", line 1427, in apply\n",
      "    return self.apply_standard()\n",
      "  File \"C:\\Users\\aksid\\PycharmProjects\\CodeMind\\venv\\lib\\site-packages\\pandas\\core\\apply.py\", line 1507, in apply_standard\n",
      "    mapped = obj._map_values(\n",
      "  File \"C:\\Users\\aksid\\PycharmProjects\\CodeMind\\venv\\lib\\site-packages\\pandas\\core\\base.py\", line 921, in _map_values\n",
      "    return algorithms.map_array(arr, mapper, na_action=na_action, convert=convert)\n",
      "  File \"C:\\Users\\aksid\\PycharmProjects\\CodeMind\\venv\\lib\\site-packages\\pandas\\core\\algorithms.py\", line 1743, in map_array\n",
      "    return lib.map_infer(values, mapper, convert=convert)\n",
      "  File \"C:\\Users\\aksid\\AppData\\Local\\Temp\\ipykernel_868\\3616560498.py\", line 16, in summarize_example\n",
      "    outputs = pipe(\n",
      "  File \"C:\\Users\\aksid\\PycharmProjects\\CodeMind\\venv\\lib\\site-packages\\transformers\\pipelines\\text_generation.py\", line 240, in __call__\n",
      "    return super().__call__(text_inputs, **kwargs)\n",
      "  File \"C:\\Users\\aksid\\PycharmProjects\\CodeMind\\venv\\lib\\site-packages\\transformers\\pipelines\\base.py\", line 1167, in __call__\n",
      "    logger.warning_once(\n",
      "  File \"C:\\Users\\aksid\\PycharmProjects\\CodeMind\\venv\\lib\\site-packages\\transformers\\utils\\logging.py\", line 329, in warning_once\n",
      "    self.warning(*args, **kwargs)\n",
      "Message: 'You seem to be using the pipelines sequentially on GPU. In order to maximize efficiency please use a dataset'\n",
      "Arguments: (<class 'UserWarning'>,)\n"
     ]
    }
   ],
   "source": [
    "df['summary'] = df['cc_content'].apply(summarize_example)"
   ],
   "metadata": {
    "collapsed": false,
    "is_executing": true,
    "ExecuteTime": {
     "start_time": "2024-04-02T11:34:46.588629Z"
    }
   },
   "id": "35bdb7311ee6918f",
   "execution_count": null
  },
  {
   "cell_type": "code",
   "outputs": [],
   "source": [],
   "metadata": {
    "collapsed": false,
    "ExecuteTime": {
     "end_time": "2024-04-02T11:21:55.002187Z",
     "start_time": "2024-04-02T11:21:55.002187Z"
    }
   },
   "id": "59e4c8535b7b92e9"
  }
 ],
 "metadata": {
  "kernelspec": {
   "display_name": "Python 3",
   "language": "python",
   "name": "python3"
  },
  "language_info": {
   "codemirror_mode": {
    "name": "ipython",
    "version": 2
   },
   "file_extension": ".py",
   "mimetype": "text/x-python",
   "name": "python",
   "nbconvert_exporter": "python",
   "pygments_lexer": "ipython2",
   "version": "2.7.6"
  }
 },
 "nbformat": 4,
 "nbformat_minor": 5
}
