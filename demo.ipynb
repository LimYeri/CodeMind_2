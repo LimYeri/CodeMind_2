{
 "cells": [
  {
   "metadata": {
    "ExecuteTime": {
     "end_time": "2024-04-18T11:13:39.881372Z",
     "start_time": "2024-04-18T11:12:03.351045Z"
    }
   },
   "cell_type": "code",
   "source": [
    "from transformers import AutoTokenizer, AutoModelForCausalLM\n",
    "\n",
    "from utils import get_completion\n",
    "\n",
    "model_id = \"kreimben/CodeMind-gemma-2b\"\n",
    "\n",
    "tokenizer = AutoTokenizer.from_pretrained(model_id, padding_side=\"left\")\n",
    "model = AutoModelForCausalLM.from_pretrained(model_id)"
   ],
   "id": "36aec76683d0dcd0",
   "outputs": [
    {
     "data": {
      "text/plain": [
       "config.json:   0%|          | 0.00/699 [00:00<?, ?B/s]"
      ],
      "application/vnd.jupyter.widget-view+json": {
       "version_major": 2,
       "version_minor": 0,
       "model_id": "cfb3a48d55f84722823b22dcc5a1d1af"
      }
     },
     "metadata": {},
     "output_type": "display_data"
    },
    {
     "name": "stderr",
     "output_type": "stream",
     "text": [
      "C:\\Users\\aksid\\PycharmProjects\\CodeMind\\venv\\lib\\site-packages\\huggingface_hub\\file_download.py:148: UserWarning: `huggingface_hub` cache-system uses symlinks by default to efficiently store duplicated files but your machine does not support them in C:\\Users\\aksid\\.cache\\huggingface\\hub\\models--kreimben--CodeMind-gemma-2b. Caching files will still work but in a degraded version that might require more space on your disk. This warning can be disabled by setting the `HF_HUB_DISABLE_SYMLINKS_WARNING` environment variable. For more details, see https://huggingface.co/docs/huggingface_hub/how-to-cache#limitations.\n",
      "To support symlinks on Windows, you either need to activate Developer Mode or to run Python as an administrator. In order to see activate developer mode, see this article: https://docs.microsoft.com/en-us/windows/apps/get-started/enable-your-device-for-development\n",
      "  warnings.warn(message)\n"
     ]
    },
    {
     "data": {
      "text/plain": [
       "model.safetensors.index.json:   0%|          | 0.00/13.5k [00:00<?, ?B/s]"
      ],
      "application/vnd.jupyter.widget-view+json": {
       "version_major": 2,
       "version_minor": 0,
       "model_id": "c10b5a723b3144f08bb72f8f3cd86a1c"
      }
     },
     "metadata": {},
     "output_type": "display_data"
    },
    {
     "data": {
      "text/plain": [
       "Downloading shards:   0%|          | 0/2 [00:00<?, ?it/s]"
      ],
      "application/vnd.jupyter.widget-view+json": {
       "version_major": 2,
       "version_minor": 0,
       "model_id": "16652b2469254b31b5c17443c60525e3"
      }
     },
     "metadata": {},
     "output_type": "display_data"
    },
    {
     "data": {
      "text/plain": [
       "model-00001-of-00002.safetensors:   0%|          | 0.00/4.95G [00:00<?, ?B/s]"
      ],
      "application/vnd.jupyter.widget-view+json": {
       "version_major": 2,
       "version_minor": 0,
       "model_id": "e74b0381c8524927ad1a21523e864127"
      }
     },
     "metadata": {},
     "output_type": "display_data"
    },
    {
     "data": {
      "text/plain": [
       "model-00002-of-00002.safetensors:   0%|          | 0.00/67.1M [00:00<?, ?B/s]"
      ],
      "application/vnd.jupyter.widget-view+json": {
       "version_major": 2,
       "version_minor": 0,
       "model_id": "ee8a787cdd2145b5976e27753329eaae"
      }
     },
     "metadata": {},
     "output_type": "display_data"
    },
    {
     "data": {
      "text/plain": [
       "Loading checkpoint shards:   0%|          | 0/2 [00:00<?, ?it/s]"
      ],
      "application/vnd.jupyter.widget-view+json": {
       "version_major": 2,
       "version_minor": 0,
       "model_id": "c269eec173ce40e4a367f7042793d235"
      }
     },
     "metadata": {},
     "output_type": "display_data"
    },
    {
     "data": {
      "text/plain": [
       "generation_config.json:   0%|          | 0.00/119 [00:00<?, ?B/s]"
      ],
      "application/vnd.jupyter.widget-view+json": {
       "version_major": 2,
       "version_minor": 0,
       "model_id": "c3a2b6bb34fd4a5b94db8887632c00b0"
      }
     },
     "metadata": {},
     "output_type": "display_data"
    }
   ],
   "execution_count": 1
  },
  {
   "metadata": {
    "ExecuteTime": {
     "end_time": "2024-04-18T11:13:41.561937Z",
     "start_time": "2024-04-18T11:13:39.882374Z"
    }
   },
   "cell_type": "code",
   "source": "model = model.to('cuda')",
   "id": "ecc2426b050a5323",
   "outputs": [],
   "execution_count": 2
  },
  {
   "metadata": {
    "ExecuteTime": {
     "end_time": "2024-04-18T11:14:07.359097Z",
     "start_time": "2024-04-18T11:13:41.562937Z"
    }
   },
   "cell_type": "code",
   "source": [
    "%%time\n",
    "\n",
    "text = '''\n",
    "class Solution:\n",
    "    def topKFrequent(self, nums: List[int], k: int) -> List[int]:\n",
    "        nums.sort()\n",
    "        d = defaultdict()\n",
    "\n",
    "        for num in nums:\n",
    "            d[num] += 1\n",
    "'''\n",
    "\n",
    "res = get_completion(\n",
    "    text,\n",
    "    model=model,\n",
    "    tokenizer=tokenizer,\n",
    "    max_new_tokens=1024,\n",
    ")"
   ],
   "id": "bd87970e0dbd3d7",
   "outputs": [
    {
     "name": "stderr",
     "output_type": "stream",
     "text": [
      "A decoder-only architecture is being used, but right-padding was detected! For correct generation results, please set `padding_side='left'` when initializing the tokenizer.\n",
      "C:\\Users\\aksid\\PycharmProjects\\CodeMind\\venv\\lib\\site-packages\\transformers\\models\\gemma\\modeling_gemma.py:573: UserWarning: 1Torch was not compiled with flash attention. (Triggered internally at ..\\aten\\src\\ATen\\native\\transformers\\cuda\\sdp_utils.cpp:263.)\n",
      "  attn_output = torch.nn.functional.scaled_dot_product_attention(\n"
     ]
    },
    {
     "name": "stdout",
     "output_type": "stream",
     "text": [
      "CPU times: total: 8.14 s\n",
      "Wall time: 25.8 s\n"
     ]
    }
   ],
   "execution_count": 3
  },
  {
   "metadata": {
    "ExecuteTime": {
     "end_time": "2024-04-18T11:14:07.374875Z",
     "start_time": "2024-04-18T11:14:07.360755Z"
    }
   },
   "cell_type": "code",
   "source": "answer = res.split('model')[-1]",
   "id": "4eb3d31eb0a2ce3a",
   "outputs": [],
   "execution_count": 4
  },
  {
   "metadata": {
    "ExecuteTime": {
     "end_time": "2024-04-18T11:14:07.390497Z",
     "start_time": "2024-04-18T11:14:07.376876Z"
    }
   },
   "cell_type": "code",
   "source": [
    "from IPython.display import display, Markdown\n",
    "\n",
    "# answer = answer.replace('\\\\\\\\', '\\\\')\n",
    "\n",
    "display(Markdown(answer))"
   ],
   "id": "fc4a98a822d76d5f",
   "outputs": [
    {
     "data": {
      "text/plain": [
       "<IPython.core.display.Markdown object>"
      ],
      "text/markdown": "The provided code is a Python implementation of the `topKFrequent()` method. It takes two arguments:\n\n- `nums`: A list of integers.\n- `k`: An integer representing the maximum number of elements to return.\n\n**Code:**\n```python\nclass Solution:\n    def topKFrequent(self, nums: List[int], k: int) -> List[int]:\n        nums.sort()\n        d = defaultdict()\n\n        for num in nums:\n            d[num] += 1\n\n        # Count the frequency of each element\n        freq = {}\n        for num, count in d.items():\n            freq[count] = num\n\n        # Get the top k most frequent elements\n        top_k = []\n        for i, num in enumerate(freq.items()):\n            top_k.append(num)\n            if len(top_k) > k:\n                top_k.pop(0)\n\n        return top_k\n```\n\n**Explanation:**\n\n- The code first sorts the `nums` list in ascending order.\n- It then uses a `defaultdict` named `d` to store the frequency of each element in the sorted list.\n- The code iterates through the sorted list and increments the frequency of each element in `d`.\n- It then creates a dictionary named `freq` that maps the frequency of each element to the element itself.\n- The code iterates through the `d` dictionary and counts the frequency of each element.\n- It then uses a loop to iterate through the `freq` dictionary and add the top `k` elements to the `top_k` list.\n- The code removes the first element from the `top_k` list if the length of `top_k` exceeds `k`.\n- Finally, the code returns the `top_k` list.\n\n**Time Complexity:** O(n log n)\n**Space Complexity:** O(n)\n\n**Note:**\n\n- The time complexity of the code is O(n log n) because it uses a merge sort to sort the `nums` list.\n- The space complexity of the code is O(n) because it uses a dictionary `d` to store the frequency of each element. The provided code is a Python implementation of the `topKFrequent()` method. It takes two arguments:\n\n- `nums`: A list of integers.\n- `k`: An integer representing the maximum number of elements to return.\n\n**Code:**\n```python\nclass Solution:\n    def topKFrequent(self, nums: List[int], k: int) -> List[int]:\n        nums.sort()\n        d = defaultdict()\n\n        for num in nums:\n            d[num] += 1\n\n        # Count the frequency of each element\n        freq = {}\n        for num, count in d.items():\n            freq[count] = num\n\n        # Get the top k most frequent elements\n        top_k = []\n        for i, num in enumerate(freq.items()):\n            top_k.append(num)\n            if len(top_k) > k:\n                top_k.pop(0)\n\n        return top_k\n```\n\n**Explanation:**\n\n- The code first sorts the `nums` list in ascending order.\n- It then uses a `defaultdict` named `d` to store the frequency of each element in the sorted list.\n- The code iterates through the sorted list and increments the frequency of each element in `d`.\n- It then creates a dictionary named `freq` that maps the frequency of each element to the element itself.\n- The code iterates through the `d` dictionary and adds the top `k` elements to the `top_k` list.\n- The code removes the first element from the `top_k` list if the length of `top_k` exceeds `k`.\n- Finally, the code returns the `top_k` list.\n\n**Time Complexity:** O(n log n)\n**Space Complexity:** O(n)\n\n**Note:**\n\n- The time complexity of the code is O(n log n) because it uses a merge sort to sort the `nums` list.\n- The space complexity of the code is O(n) because it uses a dictionary `d` to store the frequency of each element. The provided code is a Python implementation of the `topKFrequent()` method. It takes two arguments:\n\n- `nums`: A list of integers.\n- `k`: An integer representing the maximum number of elements to return.\n\n**Code:**\n```python\nclass Solution:\n    def topKFrequent(self, nums: List[int], k: int) -> List["
     },
     "metadata": {},
     "output_type": "display_data"
    }
   ],
   "execution_count": 5
  },
  {
   "metadata": {
    "ExecuteTime": {
     "end_time": "2024-04-18T11:14:07.405759Z",
     "start_time": "2024-04-18T11:14:07.392640Z"
    }
   },
   "cell_type": "code",
   "source": "",
   "id": "eab8d30f3b5f5c56",
   "outputs": [],
   "execution_count": 5
  }
 ],
 "metadata": {
  "kernelspec": {
   "display_name": "Python 3",
   "language": "python",
   "name": "python3"
  },
  "language_info": {
   "codemirror_mode": {
    "name": "ipython",
    "version": 2
   },
   "file_extension": ".py",
   "mimetype": "text/x-python",
   "name": "python",
   "nbconvert_exporter": "python",
   "pygments_lexer": "ipython2",
   "version": "2.7.6"
  }
 },
 "nbformat": 4,
 "nbformat_minor": 5
}
