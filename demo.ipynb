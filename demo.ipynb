{
 "cells": [
  {
   "metadata": {
    "ExecuteTime": {
     "end_time": "2024-04-12T10:23:18.127033Z",
     "start_time": "2024-04-12T10:23:14.048267Z"
    }
   },
   "cell_type": "code",
   "source": [
    "# Load model directly\n",
    "from transformers import AutoTokenizer, AutoModelForCausalLM\n",
    "\n",
    "from utils import get_completion\n",
    "\n",
    "tokenizer = AutoTokenizer.from_pretrained(\"kreimben/CodeMind-gemma\")\n",
    "tokenizer.padding_side = \"left\"\n",
    "model = AutoModelForCausalLM.from_pretrained(\"kreimben/CodeMind-gemma\")"
   ],
   "id": "36aec76683d0dcd0",
   "outputs": [
    {
     "data": {
      "text/plain": [
       "Loading checkpoint shards:   0%|          | 0/2 [00:00<?, ?it/s]"
      ],
      "application/vnd.jupyter.widget-view+json": {
       "version_major": 2,
       "version_minor": 0,
       "model_id": "3a6051373bcc4cd29102f78b0f3c056a"
      }
     },
     "metadata": {},
     "output_type": "display_data"
    }
   ],
   "execution_count": 8
  },
  {
   "metadata": {
    "ExecuteTime": {
     "end_time": "2024-04-12T10:23:20.720225Z",
     "start_time": "2024-04-12T10:23:18.128034Z"
    }
   },
   "cell_type": "code",
   "source": "model = model.to('cuda')",
   "id": "ecc2426b050a5323",
   "outputs": [],
   "execution_count": 9
  },
  {
   "metadata": {
    "ExecuteTime": {
     "end_time": "2024-04-12T10:25:48.354470Z",
     "start_time": "2024-04-12T10:23:20.721225Z"
    }
   },
   "cell_type": "code",
   "source": [
    "get_completion(\n",
    "    'i dont know about word break problem. please give me a approch about this problem.',\n",
    "    model=model,\n",
    "    tokenizer=tokenizer,\n",
    ")"
   ],
   "id": "bd87970e0dbd3d7",
   "outputs": [
    {
     "name": "stderr",
     "output_type": "stream",
     "text": [
      "A decoder-only architecture is being used, but right-padding was detected! For correct generation results, please set `padding_side='left'` when initializing the tokenizer.\n"
     ]
    },
    {
     "data": {
      "text/plain": [
       "'\\n    user\\n    Below is an instruction that describes a task. Write a response that appropriately completes the request.\\n    i dont know about word break problem. please give me a approch about this problem.\\n    \\nmodel\\n\\n\\n     \\n    \\n model* first think, string breaking problem. we can use the same technique here too. just break the string after each character which is repeated consecutively.  and count the no of spaces to reach the position where we want to place blank space\\\\n    \\\\n * code\\\\n```\\\\nclass Solution {\\\\npublic:\\\\n     int maxSpace(string str) {\\\\n        int len = str.length() - 1;\\\\n        \\\\n        int cnt = -1, ans = 0;\\\\n        for(int i=0; i<=str.length()-1; i++) {\\\\n            char c = str[i];\\\\n            cnt++;\\\\n            \\\\n            while(i < cnt && str[i] == c) i++;\\\\n            \\\\n            ans = max(ans, cnt-i);\\\\n        }\\\\n        return ans + 1;\\\\n    }\\\\n    int binarySearch(int start, int n, vector<int> &arr, int key) {\\\\n        if(key > n) return n;\\\\n        if(start == n) return start;\\\\n        int end = start + (n - start)/2, mid;\\\\n\\\\n        if((end >= 0 and arr[start] == key) ||\\\\n           (end < 0 and arr[end] == key)) return arr[++end];\\\\n\\\\n        int left = binarySearch(start, end, arr, key);\\\\n        if(left < n)\\\\n            return left;\\\\n        int right = binarySearch(end, n, arr, key);\\\\n        return right;\\\\n    }\\\\n\\\\n    string solveWordBreak(string str, vector<string>& words) {\\\\n        \\\\n        int n = str.length();\\\\n        int ans = maxSpace(str); // no of spaces needed for placing blank spaces to break the string.\\\\n        if(ans == 0) // we can always break the string.\\\\n            return str;\\\\n        \\\\n        // now divide the str into chunks.\\\\n        int start = 0, end = 0;\\\\n        vector<int> arr(n, 0);\\\\n        int x = n-1;\\\\n        for(int i=str.length()-1; i>=0; i--) {\\\\n            char c = str[i]; \\\\n            '"
      ]
     },
     "execution_count": 10,
     "metadata": {},
     "output_type": "execute_result"
    }
   ],
   "execution_count": 10
  },
  {
   "metadata": {},
   "cell_type": "code",
   "outputs": [],
   "execution_count": null,
   "source": "",
   "id": "4eb3d31eb0a2ce3a"
  }
 ],
 "metadata": {
  "kernelspec": {
   "display_name": "Python 3",
   "language": "python",
   "name": "python3"
  },
  "language_info": {
   "codemirror_mode": {
    "name": "ipython",
    "version": 2
   },
   "file_extension": ".py",
   "mimetype": "text/x-python",
   "name": "python",
   "nbconvert_exporter": "python",
   "pygments_lexer": "ipython2",
   "version": "2.7.6"
  }
 },
 "nbformat": 4,
 "nbformat_minor": 5
}
