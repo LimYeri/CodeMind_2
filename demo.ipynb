{
 "cells": [
  {
   "metadata": {
    "ExecuteTime": {
     "end_time": "2024-04-19T05:21:36.384547Z",
     "start_time": "2024-04-19T05:18:18.716984Z"
    }
   },
   "cell_type": "code",
   "source": [
    "from transformers import AutoTokenizer, AutoModelForCausalLM\n",
    "\n",
    "from utils import get_completion\n",
    "\n",
    "model_id = \"kreimben/CodeMind-gemma-2b\"\n",
    "\n",
    "tokenizer = AutoTokenizer.from_pretrained(model_id)\n",
    "model = AutoModelForCausalLM.from_pretrained(model_id)"
   ],
   "id": "36aec76683d0dcd0",
   "outputs": [
    {
     "data": {
      "text/plain": [
       "tokenizer_config.json:   0%|          | 0.00/40.6k [00:00<?, ?B/s]"
      ],
      "application/vnd.jupyter.widget-view+json": {
       "version_major": 2,
       "version_minor": 0,
       "model_id": "63db75da9e79443b85cc2e695d348627"
      }
     },
     "metadata": {},
     "output_type": "display_data"
    },
    {
     "name": "stderr",
     "output_type": "stream",
     "text": [
      "C:\\Users\\aksid\\PycharmProjects\\CodeMind\\venv\\lib\\site-packages\\huggingface_hub\\file_download.py:148: UserWarning: `huggingface_hub` cache-system uses symlinks by default to efficiently store duplicated files but your machine does not support them in C:\\Users\\aksid\\.cache\\huggingface\\hub\\models--kreimben--CodeMind-gemma-2b. Caching files will still work but in a degraded version that might require more space on your disk. This warning can be disabled by setting the `HF_HUB_DISABLE_SYMLINKS_WARNING` environment variable. For more details, see https://huggingface.co/docs/huggingface_hub/how-to-cache#limitations.\n",
      "To support symlinks on Windows, you either need to activate Developer Mode or to run Python as an administrator. In order to see activate developer mode, see this article: https://docs.microsoft.com/en-us/windows/apps/get-started/enable-your-device-for-development\n",
      "  warnings.warn(message)\n"
     ]
    },
    {
     "data": {
      "text/plain": [
       "tokenizer.json:   0%|          | 0.00/17.5M [00:00<?, ?B/s]"
      ],
      "application/vnd.jupyter.widget-view+json": {
       "version_major": 2,
       "version_minor": 0,
       "model_id": "278dbb92cc054a48b13e33d0e87c95d9"
      }
     },
     "metadata": {},
     "output_type": "display_data"
    },
    {
     "data": {
      "text/plain": [
       "special_tokens_map.json:   0%|          | 0.00/522 [00:00<?, ?B/s]"
      ],
      "application/vnd.jupyter.widget-view+json": {
       "version_major": 2,
       "version_minor": 0,
       "model_id": "cac6481a8c44425aa3656d2203caa943"
      }
     },
     "metadata": {},
     "output_type": "display_data"
    },
    {
     "data": {
      "text/plain": [
       "config.json:   0%|          | 0.00/699 [00:00<?, ?B/s]"
      ],
      "application/vnd.jupyter.widget-view+json": {
       "version_major": 2,
       "version_minor": 0,
       "model_id": "f0b5e8c05d4c4efaa15a3715350da59a"
      }
     },
     "metadata": {},
     "output_type": "display_data"
    },
    {
     "data": {
      "text/plain": [
       "model.safetensors.index.json:   0%|          | 0.00/13.5k [00:00<?, ?B/s]"
      ],
      "application/vnd.jupyter.widget-view+json": {
       "version_major": 2,
       "version_minor": 0,
       "model_id": "57b2949f25314f5a87840b07754e19d4"
      }
     },
     "metadata": {},
     "output_type": "display_data"
    },
    {
     "data": {
      "text/plain": [
       "Downloading shards:   0%|          | 0/2 [00:00<?, ?it/s]"
      ],
      "application/vnd.jupyter.widget-view+json": {
       "version_major": 2,
       "version_minor": 0,
       "model_id": "4013688033694e409ff7ef57ed8ed026"
      }
     },
     "metadata": {},
     "output_type": "display_data"
    },
    {
     "data": {
      "text/plain": [
       "model-00001-of-00002.safetensors:   0%|          | 0.00/4.95G [00:00<?, ?B/s]"
      ],
      "application/vnd.jupyter.widget-view+json": {
       "version_major": 2,
       "version_minor": 0,
       "model_id": "02365d89404c43ff94c8dc01da71f174"
      }
     },
     "metadata": {},
     "output_type": "display_data"
    },
    {
     "data": {
      "text/plain": [
       "model-00002-of-00002.safetensors:   0%|          | 0.00/67.1M [00:00<?, ?B/s]"
      ],
      "application/vnd.jupyter.widget-view+json": {
       "version_major": 2,
       "version_minor": 0,
       "model_id": "8f2094d41a2a4cf28bf31999ec46342d"
      }
     },
     "metadata": {},
     "output_type": "display_data"
    },
    {
     "data": {
      "text/plain": [
       "Loading checkpoint shards:   0%|          | 0/2 [00:00<?, ?it/s]"
      ],
      "application/vnd.jupyter.widget-view+json": {
       "version_major": 2,
       "version_minor": 0,
       "model_id": "8203065bb4ac4bbca14a4f0fb0af4be4"
      }
     },
     "metadata": {},
     "output_type": "display_data"
    },
    {
     "data": {
      "text/plain": [
       "generation_config.json:   0%|          | 0.00/129 [00:00<?, ?B/s]"
      ],
      "application/vnd.jupyter.widget-view+json": {
       "version_major": 2,
       "version_minor": 0,
       "model_id": "17e2855b3e764c6b86fc1f378f9e7415"
      }
     },
     "metadata": {},
     "output_type": "display_data"
    }
   ],
   "execution_count": 1
  },
  {
   "metadata": {
    "ExecuteTime": {
     "end_time": "2024-04-19T05:21:38.336187Z",
     "start_time": "2024-04-19T05:21:36.385548Z"
    }
   },
   "cell_type": "code",
   "source": "model = model.to('cuda')",
   "id": "ecc2426b050a5323",
   "outputs": [],
   "execution_count": 2
  },
  {
   "metadata": {
    "ExecuteTime": {
     "end_time": "2024-04-19T05:21:51.413725Z",
     "start_time": "2024-04-19T05:21:38.337189Z"
    }
   },
   "cell_type": "code",
   "source": [
    "%%time\n",
    "\n",
    "text = f'''leetcode wordbreak'''\n",
    "\n",
    "res = get_completion(\n",
    "    text,\n",
    "    system_prompt='You are a kind coding test teacher. Solve the given question and give the insight and approach.',\n",
    "    model=model,\n",
    "    tokenizer=tokenizer,\n",
    "    max_new_tokens=4096,\n",
    ")"
   ],
   "id": "bd87970e0dbd3d7",
   "outputs": [
    {
     "name": "stderr",
     "output_type": "stream",
     "text": [
      "Asking to truncate to max_length but no maximum length is provided and the model has no predefined maximum length. Default to no truncation.\n",
      "C:\\Users\\aksid\\PycharmProjects\\CodeMind\\venv\\lib\\site-packages\\transformers\\models\\gemma\\modeling_gemma.py:573: UserWarning: 1Torch was not compiled with flash attention. (Triggered internally at ..\\aten\\src\\ATen\\native\\transformers\\cuda\\sdp_utils.cpp:263.)\n",
      "  attn_output = torch.nn.functional.scaled_dot_product_attention(\n"
     ]
    },
    {
     "name": "stdout",
     "output_type": "stream",
     "text": [
      "CPU times: total: 2.39 s\n",
      "Wall time: 13.1 s\n"
     ]
    }
   ],
   "execution_count": 3
  },
  {
   "metadata": {
    "ExecuteTime": {
     "end_time": "2024-04-19T05:22:11.499338Z",
     "start_time": "2024-04-19T05:22:11.491336Z"
    }
   },
   "cell_type": "code",
   "source": "answer = res.split('model')[-1]",
   "id": "4eb3d31eb0a2ce3a",
   "outputs": [],
   "execution_count": 6
  },
  {
   "metadata": {
    "ExecuteTime": {
     "end_time": "2024-04-19T05:22:12.140005Z",
     "start_time": "2024-04-19T05:22:12.120997Z"
    }
   },
   "cell_type": "code",
   "source": [
    "from IPython.display import display, Markdown\n",
    "\n",
    "# answer = answer.replace('\\\\\\\\', '\\\\')\n",
    "\n",
    "display(Markdown(answer))"
   ],
   "id": "fc4a98a822d76d5f",
   "outputs": [
    {
     "data": {
      "text/plain": [
       "<IPython.core.display.Markdown object>"
      ],
      "text/markdown": "**Python**\\n```\\ndef wordBreak(self, s: str, words: List[str]) -> bool:\\n        \\n        dp = [False] * len(s)\\n        \\n        for i in range(len(s)):\\n            for j in range(i, len(s)):\\n                if s[i:j+1] in words:\\n                    dp[i] = True\\n                    break\\n        \\n        return dp[-1]\\n```\\n\\n**C++**\\n```\\nclass Solution {\\npublic:\\n    bool wordBreak(string s, vector<string>& words) {\\n        vector<bool> dp(s.size(), false);\\n        dp[0] = true;\\n        for (int i = 1; i < s.size(); i++) {\\n            for (int j = i - 1; j >= 0; j--) {\\n                if (s.substr(j, i - j) == words[j]) {\\n                    dp[i] = true;\\n                    break;\\n                }\\n            }\\n        }\\n        return dp[s.size() - 1];\\n    }\\n};\\n```\\n\\n**Java**\\n```\\nclass Solution {\\n    public boolean wordBreak(String s, List<String> words) {\\n        boolean[] dp = new boolean[s.length + 1];\\n        dp[0] = true;\\n        for (int i = 1; i < s.length(); i++) {\\n            for (int j = i - 1; j >= 0; j--) {\\n                if (s.substring(j, i + 1).equals(words[j])) {\\n                    dp[i] = true;\\n                    break;\\n                }\\n            }\\n        }\\n        return dp[s.length() - 1];\\n    }\\n}\\n```\\n\\n**C#**\\n```\\npublic class Solution {\\n    public bool WordBreak(string s, List<string> words)"
     },
     "metadata": {},
     "output_type": "display_data"
    }
   ],
   "execution_count": 7
  },
  {
   "metadata": {
    "ExecuteTime": {
     "end_time": "2024-04-19T05:21:51.460260Z",
     "start_time": "2024-04-19T05:21:51.446132Z"
    }
   },
   "cell_type": "code",
   "source": "",
   "id": "eab8d30f3b5f5c56",
   "outputs": [],
   "execution_count": 5
  }
 ],
 "metadata": {
  "kernelspec": {
   "display_name": "Python 3",
   "language": "python",
   "name": "python3"
  },
  "language_info": {
   "codemirror_mode": {
    "name": "ipython",
    "version": 2
   },
   "file_extension": ".py",
   "mimetype": "text/x-python",
   "name": "python",
   "nbconvert_exporter": "python",
   "pygments_lexer": "ipython2",
   "version": "2.7.6"
  }
 },
 "nbformat": 4,
 "nbformat_minor": 5
}
