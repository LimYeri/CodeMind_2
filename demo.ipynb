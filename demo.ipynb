{
 "cells": [
  {
   "cell_type": "code",
   "outputs": [],
   "source": [
    "peft_model_id = 'kreimben/CodeMind'\n",
    "revision_id = 'falcon-7b-20240404'"
   ],
   "metadata": {
    "collapsed": false,
    "ExecuteTime": {
     "end_time": "2024-04-04T05:06:46.199981Z",
     "start_time": "2024-04-04T05:06:46.197927Z"
    }
   },
   "id": "5d0841343288a663",
   "execution_count": 2
  },
  {
   "cell_type": "code",
   "outputs": [
    {
     "name": "stderr",
     "output_type": "stream",
     "text": [
      "/Users/kreimben/Repository/CodeMind/venv/lib/python3.11/site-packages/bitsandbytes/cextension.py:34: UserWarning: The installed version of bitsandbytes was compiled without GPU support. 8-bit optimizers, 8-bit multiplication, and GPU quantization are unavailable.\n",
      "  warn(\"The installed version of bitsandbytes was compiled without GPU support. \"\n"
     ]
    },
    {
     "name": "stdout",
     "output_type": "stream",
     "text": [
      "'NoneType' object has no attribute 'cadam32bit_grad_fp32'\n"
     ]
    },
    {
     "data": {
      "text/plain": "adapter_config.json:   0%|          | 0.00/635 [00:00<?, ?B/s]",
      "application/vnd.jupyter.widget-view+json": {
       "version_major": 2,
       "version_minor": 0,
       "model_id": "d535b62bf707493ba0d8ec010ec7f1f4"
      }
     },
     "metadata": {},
     "output_type": "display_data"
    },
    {
     "data": {
      "text/plain": "config.json:   0%|          | 0.00/1.05k [00:00<?, ?B/s]",
      "application/vnd.jupyter.widget-view+json": {
       "version_major": 2,
       "version_minor": 0,
       "model_id": "3a90d3f50f8d4760bdc72447f3e597c2"
      }
     },
     "metadata": {},
     "output_type": "display_data"
    },
    {
     "data": {
      "text/plain": "pytorch_model.bin.index.json:   0%|          | 0.00/16.9k [00:00<?, ?B/s]",
      "application/vnd.jupyter.widget-view+json": {
       "version_major": 2,
       "version_minor": 0,
       "model_id": "b8c0a331d7e644cd9fa590ddc98225b7"
      }
     },
     "metadata": {},
     "output_type": "display_data"
    },
    {
     "data": {
      "text/plain": "Downloading shards:   0%|          | 0/2 [00:00<?, ?it/s]",
      "application/vnd.jupyter.widget-view+json": {
       "version_major": 2,
       "version_minor": 0,
       "model_id": "24aecbf4403b4795a3757912b8deb81f"
      }
     },
     "metadata": {},
     "output_type": "display_data"
    },
    {
     "data": {
      "text/plain": "pytorch_model-00001-of-00002.bin:   0%|          | 0.00/9.95G [00:00<?, ?B/s]",
      "application/vnd.jupyter.widget-view+json": {
       "version_major": 2,
       "version_minor": 0,
       "model_id": "929692ed50c74c7ea7c2a31c36d60aca"
      }
     },
     "metadata": {},
     "output_type": "display_data"
    },
    {
     "data": {
      "text/plain": "pytorch_model-00002-of-00002.bin:   0%|          | 0.00/4.48G [00:00<?, ?B/s]",
      "application/vnd.jupyter.widget-view+json": {
       "version_major": 2,
       "version_minor": 0,
       "model_id": "e523874e1ad043d5b0b34f9b37f6e7e8"
      }
     },
     "metadata": {},
     "output_type": "display_data"
    },
    {
     "data": {
      "text/plain": "Loading checkpoint shards:   0%|          | 0/2 [00:00<?, ?it/s]",
      "application/vnd.jupyter.widget-view+json": {
       "version_major": 2,
       "version_minor": 0,
       "model_id": "1316314206504b0dbd69abbfb048bd31"
      }
     },
     "metadata": {},
     "output_type": "display_data"
    },
    {
     "data": {
      "text/plain": "generation_config.json:   0%|          | 0.00/117 [00:00<?, ?B/s]",
      "application/vnd.jupyter.widget-view+json": {
       "version_major": 2,
       "version_minor": 0,
       "model_id": "ed97ae0ce57f430da74813bca3f9bd31"
      }
     },
     "metadata": {},
     "output_type": "display_data"
    },
    {
     "data": {
      "text/plain": "adapter_model.safetensors:   0%|          | 0.00/9.45M [00:00<?, ?B/s]",
      "application/vnd.jupyter.widget-view+json": {
       "version_major": 2,
       "version_minor": 0,
       "model_id": "67a3d9e5c43a437cbe96d4960023a13d"
      }
     },
     "metadata": {},
     "output_type": "display_data"
    },
    {
     "data": {
      "text/plain": "tokenizer_config.json:   0%|          | 0.00/287 [00:00<?, ?B/s]",
      "application/vnd.jupyter.widget-view+json": {
       "version_major": 2,
       "version_minor": 0,
       "model_id": "4661dc59a9384fd587fa4f9de172c2ef"
      }
     },
     "metadata": {},
     "output_type": "display_data"
    },
    {
     "data": {
      "text/plain": "tokenizer.json:   0%|          | 0.00/2.73M [00:00<?, ?B/s]",
      "application/vnd.jupyter.widget-view+json": {
       "version_major": 2,
       "version_minor": 0,
       "model_id": "4c80e0514dbe42809fd2ff7a0d0b3726"
      }
     },
     "metadata": {},
     "output_type": "display_data"
    },
    {
     "data": {
      "text/plain": "special_tokens_map.json:   0%|          | 0.00/281 [00:00<?, ?B/s]",
      "application/vnd.jupyter.widget-view+json": {
       "version_major": 2,
       "version_minor": 0,
       "model_id": "0464962276664abd979dec0ebc031242"
      }
     },
     "metadata": {},
     "output_type": "display_data"
    },
    {
     "data": {
      "text/plain": "PeftModelForCausalLM(\n  (base_model): LoraModel(\n    (model): FalconForCausalLM(\n      (transformer): FalconModel(\n        (word_embeddings): Embedding(65024, 4544)\n        (h): ModuleList(\n          (0-31): 32 x FalconDecoderLayer(\n            (self_attention): FalconAttention(\n              (rotary_emb): FalconRotaryEmbedding()\n              (query_key_value): lora.Linear(\n                (base_layer): FalconLinear(in_features=4544, out_features=4672, bias=False)\n                (lora_dropout): ModuleDict(\n                  (default): Dropout(p=0.1, inplace=False)\n                )\n                (lora_A): ModuleDict(\n                  (default): Linear(in_features=4544, out_features=8, bias=False)\n                )\n                (lora_B): ModuleDict(\n                  (default): Linear(in_features=8, out_features=4672, bias=False)\n                )\n                (lora_embedding_A): ParameterDict()\n                (lora_embedding_B): ParameterDict()\n              )\n              (dense): FalconLinear(in_features=4544, out_features=4544, bias=False)\n              (attention_dropout): Dropout(p=0.0, inplace=False)\n            )\n            (mlp): FalconMLP(\n              (dense_h_to_4h): FalconLinear(in_features=4544, out_features=18176, bias=False)\n              (act): GELU(approximate='none')\n              (dense_4h_to_h): FalconLinear(in_features=18176, out_features=4544, bias=False)\n            )\n            (input_layernorm): LayerNorm((4544,), eps=1e-05, elementwise_affine=True)\n          )\n        )\n        (ln_f): LayerNorm((4544,), eps=1e-05, elementwise_affine=True)\n      )\n      (lm_head): Linear(in_features=4544, out_features=65024, bias=False)\n    )\n  )\n)"
     },
     "execution_count": 3,
     "metadata": {},
     "output_type": "execute_result"
    }
   ],
   "source": [
    "from peft import PeftModel, PeftConfig\n",
    "from transformers import AutoModelForCausalLM, AutoTokenizer\n",
    "\n",
    "config = PeftConfig.from_pretrained(peft_model_id, revision=revision_id)\n",
    "model = AutoModelForCausalLM.from_pretrained(config.base_model_name_or_path)\n",
    "model = PeftModel.from_pretrained(model, peft_model_id, revision=revision_id)\n",
    "tokenizer = AutoTokenizer.from_pretrained(config.base_model_name_or_path)\n",
    "\n",
    "model.eval()"
   ],
   "metadata": {
    "collapsed": false,
    "ExecuteTime": {
     "end_time": "2024-04-04T05:31:46.994242Z",
     "start_time": "2024-04-04T05:06:46.204818Z"
    }
   },
   "id": "da339336fd0fec2a",
   "execution_count": 3
  },
  {
   "cell_type": "code",
   "outputs": [
    {
     "data": {
      "text/plain": "GenerationConfig {\n  \"bos_token_id\": 11,\n  \"eos_token_id\": 11\n}"
     },
     "execution_count": 4,
     "metadata": {},
     "output_type": "execute_result"
    }
   ],
   "source": [
    "model.generation_config"
   ],
   "metadata": {
    "collapsed": false
   },
   "id": "b8fb3a0c91b85a3f",
   "execution_count": 4
  },
  {
   "cell_type": "code",
   "outputs": [],
   "source": [
    "import time\n",
    "\n",
    "system_prompt = f\"\"\"\n",
    "\"\"\"\n",
    "\n",
    "\n",
    "def formatting_func(user_input):\n",
    "    global system_prompt\n",
    "    return f\"<human>: {system_prompt}\\n\\n{user_input}\\n<assistant>: \"\n",
    "\n",
    "\n",
    "def generate_response(user_input):\n",
    "    # prompt = formatting_func(user_input)\n",
    "\n",
    "    inputs = tokenizer(user_input, return_tensors='pt')\n",
    "\n",
    "    tic = time.time()\n",
    "\n",
    "    outputs = model(**inputs)\n",
    "\n",
    "    return {\n",
    "        'consumed_time': time.time() - tic,\n",
    "        'response': outputs,  #  tokenizer.decode(outputs[0], skip_special_tokens=True)\n",
    "    }"
   ],
   "metadata": {
    "collapsed": true,
    "ExecuteTime": {
     "end_time": "2024-04-04T06:06:30.018355Z",
     "start_time": "2024-04-04T06:06:30.012707Z"
    }
   },
   "id": "initial_id",
   "execution_count": 23
  },
  {
   "cell_type": "code",
   "outputs": [],
   "source": [
    "import torch\n",
    "\n",
    "with torch.no_grad():\n",
    "    res = generate_response('leetcode no.1 add sum. explain me')"
   ],
   "metadata": {
    "collapsed": false,
    "ExecuteTime": {
     "end_time": "2024-04-04T06:08:45.850328Z",
     "start_time": "2024-04-04T06:06:30.277767Z"
    }
   },
   "id": "53e5cc4048cd7b7b",
   "execution_count": 24
  },
  {
   "cell_type": "code",
   "outputs": [
    {
     "data": {
      "text/plain": "'athercode   : two of\\nation the'"
     },
     "execution_count": 25,
     "metadata": {},
     "output_type": "execute_result"
    }
   ],
   "source": [
    "logits_tensor = res['response'].logits\n",
    "detokenized_text = tokenizer.decode(logits_tensor.argmax(dim=-1).squeeze().tolist())\n",
    "detokenized_text"
   ],
   "metadata": {
    "collapsed": false,
    "ExecuteTime": {
     "end_time": "2024-04-04T06:08:45.881702Z",
     "start_time": "2024-04-04T06:08:45.861668Z"
    }
   },
   "id": "4187876464676729",
   "execution_count": 25
  },
  {
   "cell_type": "code",
   "outputs": [],
   "source": [],
   "metadata": {
    "collapsed": false
   },
   "id": "a647fdf32ce06f6f"
  }
 ],
 "metadata": {
  "kernelspec": {
   "display_name": "Python 3",
   "language": "python",
   "name": "python3"
  },
  "language_info": {
   "codemirror_mode": {
    "name": "ipython",
    "version": 2
   },
   "file_extension": ".py",
   "mimetype": "text/x-python",
   "name": "python",
   "nbconvert_exporter": "python",
   "pygments_lexer": "ipython2",
   "version": "2.7.6"
  }
 },
 "nbformat": 4,
 "nbformat_minor": 5
}
