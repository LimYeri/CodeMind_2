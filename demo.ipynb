{
 "cells": [
  {
   "metadata": {
    "ExecuteTime": {
     "end_time": "2024-04-14T03:00:37.301471Z",
     "start_time": "2024-04-14T02:57:18.702241Z"
    }
   },
   "cell_type": "code",
   "source": [
    "import torch\n",
    "from peft import PeftModel\n",
    "from transformers import AutoTokenizer, AutoModelForCausalLM\n",
    "\n",
    "from utils import get_completion\n",
    "\n",
    "tokenizer = AutoTokenizer.from_pretrained(\"kreimben/CodeMind-gemma\", padding_side=\"left\")\n",
    "model = AutoModelForCausalLM.from_pretrained(\"kreimben/CodeMind-gemma\")\n",
    "\n",
    "# base_model = AutoModelForCausalLM.from_pretrained(\n",
    "#     'google/gemma-2b-it',\n",
    "#     low_cpu_mem_usage=True,\n",
    "#     return_dict=True,\n",
    "#     torch_dtype=torch.float16,\n",
    "#     device_map={\"\": 0},\n",
    "# )\n",
    "# model = PeftModel.from_pretrained(base_model, 'fine-tuning/out/checkpoint-3572')\n",
    "# model = model.merge_and_unload()"
   ],
   "id": "36aec76683d0dcd0",
   "outputs": [
    {
     "data": {
      "text/plain": [
       "tokenizer_config.json:   0%|          | 0.00/2.16k [00:00<?, ?B/s]"
      ],
      "application/vnd.jupyter.widget-view+json": {
       "version_major": 2,
       "version_minor": 0,
       "model_id": "f9bcc6a9ee7b4e0fa78cc6eb3392c14c"
      }
     },
     "metadata": {},
     "output_type": "display_data"
    },
    {
     "data": {
      "text/plain": [
       "tokenizer.json:   0%|          | 0.00/17.5M [00:00<?, ?B/s]"
      ],
      "application/vnd.jupyter.widget-view+json": {
       "version_major": 2,
       "version_minor": 0,
       "model_id": "398ae9a5e5764d97ae571513c2b1d0bb"
      }
     },
     "metadata": {},
     "output_type": "display_data"
    },
    {
     "data": {
      "text/plain": [
       "special_tokens_map.json:   0%|          | 0.00/522 [00:00<?, ?B/s]"
      ],
      "application/vnd.jupyter.widget-view+json": {
       "version_major": 2,
       "version_minor": 0,
       "model_id": "8bd3cdfe07924389be9e4a6853589f8a"
      }
     },
     "metadata": {},
     "output_type": "display_data"
    },
    {
     "data": {
      "text/plain": [
       "config.json:   0%|          | 0.00/691 [00:00<?, ?B/s]"
      ],
      "application/vnd.jupyter.widget-view+json": {
       "version_major": 2,
       "version_minor": 0,
       "model_id": "11800a5639534f0f9f8b69c8631131fd"
      }
     },
     "metadata": {},
     "output_type": "display_data"
    },
    {
     "data": {
      "text/plain": [
       "model.safetensors.index.json:   0%|          | 0.00/13.5k [00:00<?, ?B/s]"
      ],
      "application/vnd.jupyter.widget-view+json": {
       "version_major": 2,
       "version_minor": 0,
       "model_id": "e65820d0d2bd4d93bf131ca5ee5a8c32"
      }
     },
     "metadata": {},
     "output_type": "display_data"
    },
    {
     "data": {
      "text/plain": [
       "Downloading shards:   0%|          | 0/2 [00:00<?, ?it/s]"
      ],
      "application/vnd.jupyter.widget-view+json": {
       "version_major": 2,
       "version_minor": 0,
       "model_id": "94f64e4049884da38e45c80e212c2d60"
      }
     },
     "metadata": {},
     "output_type": "display_data"
    },
    {
     "data": {
      "text/plain": [
       "model-00001-of-00002.safetensors:   0%|          | 0.00/4.95G [00:00<?, ?B/s]"
      ],
      "application/vnd.jupyter.widget-view+json": {
       "version_major": 2,
       "version_minor": 0,
       "model_id": "d4da13364306434ba7d0ebf0aee213a6"
      }
     },
     "metadata": {},
     "output_type": "display_data"
    },
    {
     "data": {
      "text/plain": [
       "model-00002-of-00002.safetensors:   0%|          | 0.00/67.1M [00:00<?, ?B/s]"
      ],
      "application/vnd.jupyter.widget-view+json": {
       "version_major": 2,
       "version_minor": 0,
       "model_id": "e0721528d3514f1ebc61f9b3622fb72a"
      }
     },
     "metadata": {},
     "output_type": "display_data"
    },
    {
     "data": {
      "text/plain": [
       "Loading checkpoint shards:   0%|          | 0/2 [00:00<?, ?it/s]"
      ],
      "application/vnd.jupyter.widget-view+json": {
       "version_major": 2,
       "version_minor": 0,
       "model_id": "fef8ca7ab2e0445db7b7a47c3beff08f"
      }
     },
     "metadata": {},
     "output_type": "display_data"
    },
    {
     "data": {
      "text/plain": [
       "generation_config.json:   0%|          | 0.00/132 [00:00<?, ?B/s]"
      ],
      "application/vnd.jupyter.widget-view+json": {
       "version_major": 2,
       "version_minor": 0,
       "model_id": "e6050372780d47c2a96d19e2c04c4ca5"
      }
     },
     "metadata": {},
     "output_type": "display_data"
    }
   ],
   "execution_count": 32
  },
  {
   "metadata": {
    "ExecuteTime": {
     "end_time": "2024-04-14T03:00:39.209472Z",
     "start_time": "2024-04-14T03:00:37.301471Z"
    }
   },
   "cell_type": "code",
   "source": "model = model.to('cuda')",
   "id": "ecc2426b050a5323",
   "outputs": [],
   "execution_count": 33
  },
  {
   "metadata": {
    "ExecuteTime": {
     "end_time": "2024-04-14T03:01:20.075454Z",
     "start_time": "2024-04-14T03:00:39.209472Z"
    }
   },
   "cell_type": "code",
   "source": [
    "%%time\n",
    "\n",
    "res = get_completion(\n",
    "    'i dont know about word break problem. please give me a approch about this problem.',\n",
    "    model=model,\n",
    "    tokenizer=tokenizer,\n",
    "    max_new_tokens=1024\n",
    ")"
   ],
   "id": "bd87970e0dbd3d7",
   "outputs": [
    {
     "name": "stderr",
     "output_type": "stream",
     "text": [
      "A decoder-only architecture is being used, but right-padding was detected! For correct generation results, please set `padding_side='left'` when initializing the tokenizer.\n"
     ]
    },
    {
     "name": "stdout",
     "output_type": "stream",
     "text": [
      "CPU times: total: 19.3 s\n",
      "Wall time: 40.9 s\n"
     ]
    }
   ],
   "execution_count": 34
  },
  {
   "metadata": {
    "ExecuteTime": {
     "end_time": "2024-04-14T03:01:20.085635Z",
     "start_time": "2024-04-14T03:01:20.075454Z"
    }
   },
   "cell_type": "code",
   "source": "answer = res.split('model')[-1]",
   "id": "4eb3d31eb0a2ce3a",
   "outputs": [],
   "execution_count": 35
  },
  {
   "metadata": {
    "ExecuteTime": {
     "end_time": "2024-04-14T03:01:20.101986Z",
     "start_time": "2024-04-14T03:01:20.086360Z"
    }
   },
   "cell_type": "code",
   "source": [
    "from IPython.display import display, Markdown\n",
    "\n",
    "answer = answer.replace('\\\\\\\\', '\\\\')\n",
    "\n",
    "display(Markdown(answer))"
   ],
   "id": "fc4a98a822d76d5f",
   "outputs": [
    {
     "data": {
      "text/plain": [
       "<IPython.core.display.Markdown object>"
      ],
      "text/markdown": "**Solution 1: DFS on a prefix\\n**Time: O(n + m)\\nSpace: O(26)\\n`words = [(word, i+len(word) + 1, 1)]\\npath = \\'\\'\\nwhile len(words) != 0:\\n    word, s, p = words.pop()\\n    for i in range(s[-1] + 1):\\n        word_to_search = word[:i] + word[i+1:]\\n        if word in path:\\n            continue\\n        if word_to_search not in path:\\n            words.append((word_to_search, path + word, 1))\\n            path = word_to_search + path\\n    del path[s[-1]]\\n```\\n\\n**Solution 2: use hashmap**\\n**Time: O(n + m)\\nSpace: O(26)**\\n\\n```python\\nclass Solution:\\n    def wordBreak(self, s: str, firstLetters: List[str]) -> bool:\\n        path = defaultdict(set) # 26 is the length of alphabet\\n        words = [(word, 0 + 1, 1)] + sorted((word, i+len(word) + 1, 1) for word in [word for i in range(len(s) + 1)])\\n        return self.word_break(s, path) # return True/False\\n    \\n    private def word_break(self, s: str, path: defaultdict[set[str]]):\\n        # dfs on prefix.\\n        while len(s) != 0:\\n            word, index = words.pop(0)\\n            if word in path:\\n                temp_path = path[word]\\n                i = index\\n            else:\\n                continue\\n            for i in range(index + 1):\\n                word_to_search = word[:i] + word[i+1:]\\n                if word_to_search not in path:\\n                    path[word_to_search] = set([word])\\n                    continue\\n                # if we found a path before, make sure to check it first, because we will only need to check once.\\n                if path[word_to_search] in self.is_palindrome_word([word_to_search, path[word_to_search][0]+1, index]):\\n                    continue\\n                # if word is a palindrome, keep looking down.\\n                continue\\n            del path[index] # don\\'t use path[word] because they are not unique.\\n    \\n```\\n\\n**Solution 3: use the set method(1) **\\n**Time: O(n + m)\\nSpace: O(1) \\n```\\n\\n```python\\nclass Solution:\\n    def wordBreak(self, s: str, firstLetters: List[str]) -> bool:\\n        path = {0}\\n        result = False\\n        words = sorted((word, i+len(word) + 1, 1) for word in [word for i in range(len(s) + 1)])\\n        for word, i, cnt in words:\\n            while i <= len(s) and word in path:\\n                j = i + len(word) + 1\\n                if j > len(s):\\n                    return True\\n                word_to_search = word[:i] + word[i+1:]\\n                if word in path:\\n                    temp_path = path[word]\\n                    if word_to_search in temp_path:\\n                        continue\\n                    if word_to_search not in path:\\n                        words = sorted((word_to_search, 0 + 1, 1)) # do a reset\\n                        result = True\\n                else:\\n                    break\\n        return result\\n```\\n**Solution 4: using a trie**\\n**Time: O(1)*\\nSpace: O(m)*\\n```python\\nclass Solution:\\n    def wordBreak(self, s: str, firstLetters: List[str]) -> bool:\\n        trie = {}\\n        for word in firstLetters:\\n            words = trie.setdefault(word, {}\\n            ), set()\\n            for c in word:\\n                words.setdefault(c, set()).add(word)\\n                words = trie[c]\\n        result = False\\n        for word in words"
     },
     "metadata": {},
     "output_type": "display_data"
    }
   ],
   "execution_count": 36
  },
  {
   "metadata": {
    "ExecuteTime": {
     "end_time": "2024-04-14T02:46:29.217184Z",
     "start_time": "2024-04-14T02:42:59.142540Z"
    }
   },
   "cell_type": "code",
   "source": [
    "# from dotenv import load_dotenv\n",
    "# import os\n",
    "# \n",
    "# load_dotenv()\n",
    "# \n",
    "# token = os.getenv('HF_WRITE')\n",
    "# \n",
    "# model.push_to_hub('kreimben/CodeMind-gemma', token=token)"
   ],
   "id": "5616a1ad70de6719",
   "outputs": [
    {
     "data": {
      "text/plain": [
       "model-00002-of-00002.safetensors:   0%|          | 0.00/67.1M [00:00<?, ?B/s]"
      ],
      "application/vnd.jupyter.widget-view+json": {
       "version_major": 2,
       "version_minor": 0,
       "model_id": "31c54e943d934f93ae00b8ad768d06aa"
      }
     },
     "metadata": {},
     "output_type": "display_data"
    },
    {
     "data": {
      "text/plain": [
       "model-00001-of-00002.safetensors:   0%|          | 0.00/4.95G [00:00<?, ?B/s]"
      ],
      "application/vnd.jupyter.widget-view+json": {
       "version_major": 2,
       "version_minor": 0,
       "model_id": "dd6efe3d689147ee902612da08125706"
      }
     },
     "metadata": {},
     "output_type": "display_data"
    },
    {
     "data": {
      "text/plain": [
       "Upload 2 LFS files:   0%|          | 0/2 [00:00<?, ?it/s]"
      ],
      "application/vnd.jupyter.widget-view+json": {
       "version_major": 2,
       "version_minor": 0,
       "model_id": "81113352f4684d64951c06cad835b323"
      }
     },
     "metadata": {},
     "output_type": "display_data"
    },
    {
     "data": {
      "text/plain": [
       "CommitInfo(commit_url='https://huggingface.co/kreimben/CodeMind-gemma/commit/77e0e9fecda21ec0efe71d566ce55a967870c9d2', commit_message='Upload GemmaForCausalLM', commit_description='', oid='77e0e9fecda21ec0efe71d566ce55a967870c9d2', pr_url=None, pr_revision=None, pr_num=None)"
      ]
     },
     "execution_count": 30,
     "metadata": {},
     "output_type": "execute_result"
    }
   ],
   "execution_count": 30
  },
  {
   "metadata": {},
   "cell_type": "code",
   "outputs": [],
   "execution_count": null,
   "source": "",
   "id": "eab8d30f3b5f5c56"
  }
 ],
 "metadata": {
  "kernelspec": {
   "display_name": "Python 3",
   "language": "python",
   "name": "python3"
  },
  "language_info": {
   "codemirror_mode": {
    "name": "ipython",
    "version": 2
   },
   "file_extension": ".py",
   "mimetype": "text/x-python",
   "name": "python",
   "nbconvert_exporter": "python",
   "pygments_lexer": "ipython2",
   "version": "2.7.6"
  }
 },
 "nbformat": 4,
 "nbformat_minor": 5
}
