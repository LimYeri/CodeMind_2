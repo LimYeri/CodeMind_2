{
 "cells": [
  {
   "metadata": {
    "ExecuteTime": {
     "end_time": "2024-04-19T08:22:08.851465Z",
     "start_time": "2024-04-19T08:19:00.997001Z"
    }
   },
   "cell_type": "code",
   "source": [
    "from transformers import AutoTokenizer, AutoModelForCausalLM, pipeline\n",
    "\n",
    "from utils import get_completion\n",
    "\n",
    "model_id = \"kreimben/CodeMind-gemma-2b\"\n",
    "# revision_id = ''  #'8dfe462284bdac32da45502e8f0f2d5f790fab8c'\n",
    "\n",
    "tokenizer = AutoTokenizer.from_pretrained(model_id)\n",
    "model = AutoModelForCausalLM.from_pretrained(model_id)"
   ],
   "id": "36aec76683d0dcd0",
   "outputs": [
    {
     "data": {
      "text/plain": [
       "tokenizer_config.json:   0%|          | 0.00/40.6k [00:00<?, ?B/s]"
      ],
      "application/vnd.jupyter.widget-view+json": {
       "version_major": 2,
       "version_minor": 0,
       "model_id": "3cf83f8bceff45a7a10d52e2c41a780f"
      }
     },
     "metadata": {},
     "output_type": "display_data"
    },
    {
     "name": "stderr",
     "output_type": "stream",
     "text": [
      "C:\\Users\\aksid\\PycharmProjects\\CodeMind\\venv\\lib\\site-packages\\huggingface_hub\\file_download.py:148: UserWarning: `huggingface_hub` cache-system uses symlinks by default to efficiently store duplicated files but your machine does not support them in C:\\Users\\aksid\\.cache\\huggingface\\hub\\models--kreimben--CodeMind-gemma-2b. Caching files will still work but in a degraded version that might require more space on your disk. This warning can be disabled by setting the `HF_HUB_DISABLE_SYMLINKS_WARNING` environment variable. For more details, see https://huggingface.co/docs/huggingface_hub/how-to-cache#limitations.\n",
      "To support symlinks on Windows, you either need to activate Developer Mode or to run Python as an administrator. In order to see activate developer mode, see this article: https://docs.microsoft.com/en-us/windows/apps/get-started/enable-your-device-for-development\n",
      "  warnings.warn(message)\n"
     ]
    },
    {
     "data": {
      "text/plain": [
       "tokenizer.json:   0%|          | 0.00/17.5M [00:00<?, ?B/s]"
      ],
      "application/vnd.jupyter.widget-view+json": {
       "version_major": 2,
       "version_minor": 0,
       "model_id": "0f92b0c630ad46b3b859728df5589352"
      }
     },
     "metadata": {},
     "output_type": "display_data"
    },
    {
     "data": {
      "text/plain": [
       "special_tokens_map.json:   0%|          | 0.00/522 [00:00<?, ?B/s]"
      ],
      "application/vnd.jupyter.widget-view+json": {
       "version_major": 2,
       "version_minor": 0,
       "model_id": "7ab0a5a8ea2e4948a7286c7d1ea73cdd"
      }
     },
     "metadata": {},
     "output_type": "display_data"
    },
    {
     "data": {
      "text/plain": [
       "config.json:   0%|          | 0.00/699 [00:00<?, ?B/s]"
      ],
      "application/vnd.jupyter.widget-view+json": {
       "version_major": 2,
       "version_minor": 0,
       "model_id": "c6e6db9609d24c39bea1f7e8fcade5b4"
      }
     },
     "metadata": {},
     "output_type": "display_data"
    },
    {
     "data": {
      "text/plain": [
       "model.safetensors.index.json:   0%|          | 0.00/13.5k [00:00<?, ?B/s]"
      ],
      "application/vnd.jupyter.widget-view+json": {
       "version_major": 2,
       "version_minor": 0,
       "model_id": "15eb392f33ad4ff0b62a19f01ad65260"
      }
     },
     "metadata": {},
     "output_type": "display_data"
    },
    {
     "data": {
      "text/plain": [
       "Downloading shards:   0%|          | 0/2 [00:00<?, ?it/s]"
      ],
      "application/vnd.jupyter.widget-view+json": {
       "version_major": 2,
       "version_minor": 0,
       "model_id": "c9a380963c684f97a054e168bcc3a616"
      }
     },
     "metadata": {},
     "output_type": "display_data"
    },
    {
     "data": {
      "text/plain": [
       "model-00001-of-00002.safetensors:   0%|          | 0.00/4.95G [00:00<?, ?B/s]"
      ],
      "application/vnd.jupyter.widget-view+json": {
       "version_major": 2,
       "version_minor": 0,
       "model_id": "579de42cd3204a7d9ed5bfdbabb55fa6"
      }
     },
     "metadata": {},
     "output_type": "display_data"
    },
    {
     "data": {
      "text/plain": [
       "model-00002-of-00002.safetensors:   0%|          | 0.00/67.1M [00:00<?, ?B/s]"
      ],
      "application/vnd.jupyter.widget-view+json": {
       "version_major": 2,
       "version_minor": 0,
       "model_id": "9135ad6befcc4044a2b183993007a549"
      }
     },
     "metadata": {},
     "output_type": "display_data"
    },
    {
     "data": {
      "text/plain": [
       "Loading checkpoint shards:   0%|          | 0/2 [00:00<?, ?it/s]"
      ],
      "application/vnd.jupyter.widget-view+json": {
       "version_major": 2,
       "version_minor": 0,
       "model_id": "583eedbe84ef4af491d3577f0c058aa6"
      }
     },
     "metadata": {},
     "output_type": "display_data"
    },
    {
     "data": {
      "text/plain": [
       "generation_config.json:   0%|          | 0.00/132 [00:00<?, ?B/s]"
      ],
      "application/vnd.jupyter.widget-view+json": {
       "version_major": 2,
       "version_minor": 0,
       "model_id": "1940f067d4ab4d41ad64c899b0fa9d54"
      }
     },
     "metadata": {},
     "output_type": "display_data"
    }
   ],
   "execution_count": 2
  },
  {
   "metadata": {
    "ExecuteTime": {
     "end_time": "2024-04-19T08:22:10.785406Z",
     "start_time": "2024-04-19T08:22:08.852465Z"
    }
   },
   "cell_type": "code",
   "source": "model = model.to('cuda')",
   "id": "ecc2426b050a5323",
   "outputs": [],
   "execution_count": 3
  },
  {
   "metadata": {
    "ExecuteTime": {
     "end_time": "2024-04-19T08:22:13.600591Z",
     "start_time": "2024-04-19T08:22:10.786410Z"
    }
   },
   "cell_type": "code",
   "source": "pipe = pipeline(\"text-generation\", model=model, tokenizer=tokenizer, max_new_tokens=512)",
   "id": "8aaf613a0e155ac2",
   "outputs": [],
   "execution_count": 4
  },
  {
   "metadata": {
    "ExecuteTime": {
     "end_time": "2024-04-19T08:25:25.657091Z",
     "start_time": "2024-04-19T08:22:13.601595Z"
    }
   },
   "cell_type": "code",
   "source": [
    "%%time\n",
    "\n",
    "text = f'''leetcode wordbreak'''\n",
    "\n",
    "res = get_completion(\n",
    "    text,\n",
    "    system_prompt='You are a kind coding test teacher. Solve the given question and give the insight and approach.',\n",
    "    pipeline=pipe,\n",
    ")"
   ],
   "id": "bd87970e0dbd3d7",
   "outputs": [
    {
     "name": "stdout",
     "output_type": "stream",
     "text": [
      "CPU times: total: 17min 45s\n",
      "Wall time: 3min 12s\n"
     ]
    }
   ],
   "execution_count": 5
  },
  {
   "metadata": {
    "ExecuteTime": {
     "end_time": "2024-04-19T08:25:25.672470Z",
     "start_time": "2024-04-19T08:25:25.658309Z"
    }
   },
   "cell_type": "code",
   "source": "answer = res.split('model')[-1]",
   "id": "4eb3d31eb0a2ce3a",
   "outputs": [],
   "execution_count": 6
  },
  {
   "metadata": {
    "ExecuteTime": {
     "end_time": "2024-04-19T08:25:25.687595Z",
     "start_time": "2024-04-19T08:25:25.673471Z"
    }
   },
   "cell_type": "code",
   "source": [
    "from IPython.display import display, Markdown\n",
    "\n",
    "# answer = answer.replace('\\\\\\\\', '\\\\')\n",
    "\n",
    "display(Markdown(answer))"
   ],
   "id": "fc4a98a822d76d5f",
   "outputs": [
    {
     "data": {
      "text/plain": [
       "<IPython.core.display.Markdown object>"
      ],
      "text/markdown": "\n**Question:** Word Break\n\n**Description:**\n\nGiven a string s, return true if the string can be segmented into a space-separated sequence of one or more dictionary words, where each dictionary word is a word from a dictionary.\n\n**Example 1:**\n\n**Input:** s = \"applepen\"\n**Output:** true\n**Explanation:** The string can be segmented as \"apple\" and \"pen\".\n\n**Example 2:**\n\n**Input:** s = \"asdfghjk\"\n**Output:** false\n**Explanation:** The string cannot be segmented into a space-separated sequence of one or more dictionary words.\n\n**Constraints:**\n\n*   `1 <= s.length <= 105`\n*   `s` consists of lowercase English letters.\n*   `1 <= word.length <= 105`\n*   `word` consists of lowercase English letters.\n\n**Approach:**\n\n1. **Iterate through the string:**\n   - For each word, check if it can be segmented into a space-separated sequence of one or more dictionary words.\n   - Use a stack to keep track of the current word and the remaining string.\n\n2. **Check for valid segments:**\n   - If the current word can be segmented, pop it from the stack.\n   - Otherwise, check if the remaining string is empty.\n   - If it is empty, return `True`.\n\n3. **Return the result:**\n   - If all words can be segmented, return `True`.\n   - Otherwise, return `False`.\n\n**Code:**\n\n```python\nclass WordBreak:\n    def wordBreak(self, s: str) -> bool:\n        stack = []\n        words = s.split()\n        for word in words:\n            while stack and word[0] in stack[-1]:\n                stack.pop()\n            stack.append(word)\n            if not stack:\n                return True\n        return False\n```\n\n**Time Complexity:** O(n * word count)\n**Space Complexity:** O(n)\n\n**Additional Notes:**\n\n*   The word list is sorted in alphabetical order.\n*   The string is guaranteed to contain a space character."
     },
     "metadata": {},
     "output_type": "display_data"
    }
   ],
   "execution_count": 7
  },
  {
   "metadata": {
    "ExecuteTime": {
     "end_time": "2024-04-19T08:25:25.702919Z",
     "start_time": "2024-04-19T08:25:25.687810Z"
    }
   },
   "cell_type": "code",
   "source": "",
   "id": "eab8d30f3b5f5c56",
   "outputs": [],
   "execution_count": 7
  }
 ],
 "metadata": {
  "kernelspec": {
   "display_name": "Python 3",
   "language": "python",
   "name": "python3"
  },
  "language_info": {
   "codemirror_mode": {
    "name": "ipython",
    "version": 2
   },
   "file_extension": ".py",
   "mimetype": "text/x-python",
   "name": "python",
   "nbconvert_exporter": "python",
   "pygments_lexer": "ipython2",
   "version": "2.7.6"
  }
 },
 "nbformat": 4,
 "nbformat_minor": 5
}
