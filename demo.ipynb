{
 "cells": [
  {
   "metadata": {
    "ExecuteTime": {
     "end_time": "2024-04-12T22:28:01.403235Z",
     "start_time": "2024-04-12T22:24:38.618176Z"
    }
   },
   "cell_type": "code",
   "source": [
    "# Load model directly\n",
    "from transformers import AutoTokenizer, AutoModelForCausalLM\n",
    "\n",
    "from utils import get_completion\n",
    "\n",
    "tokenizer = AutoTokenizer.from_pretrained(\"kreimben/CodeMind-gemma\", padding_side=\"left\")\n",
    "model = AutoModelForCausalLM.from_pretrained(\"kreimben/CodeMind-gemma\")"
   ],
   "id": "36aec76683d0dcd0",
   "outputs": [
    {
     "data": {
      "text/plain": [
       "tokenizer_config.json:   0%|          | 0.00/1.11k [00:00<?, ?B/s]"
      ],
      "application/vnd.jupyter.widget-view+json": {
       "version_major": 2,
       "version_minor": 0,
       "model_id": "27cb264711dc404cbb858aa446d41a1f"
      }
     },
     "metadata": {},
     "output_type": "display_data"
    },
    {
     "name": "stderr",
     "output_type": "stream",
     "text": [
      "C:\\Users\\aksid\\PycharmProjects\\CodeMind\\venv\\lib\\site-packages\\huggingface_hub\\file_download.py:148: UserWarning: `huggingface_hub` cache-system uses symlinks by default to efficiently store duplicated files but your machine does not support them in C:\\Users\\aksid\\.cache\\huggingface\\hub\\models--kreimben--CodeMind-gemma. Caching files will still work but in a degraded version that might require more space on your disk. This warning can be disabled by setting the `HF_HUB_DISABLE_SYMLINKS_WARNING` environment variable. For more details, see https://huggingface.co/docs/huggingface_hub/how-to-cache#limitations.\n",
      "To support symlinks on Windows, you either need to activate Developer Mode or to run Python as an administrator. In order to see activate developer mode, see this article: https://docs.microsoft.com/en-us/windows/apps/get-started/enable-your-device-for-development\n",
      "  warnings.warn(message)\n"
     ]
    },
    {
     "data": {
      "text/plain": [
       "tokenizer.json:   0%|          | 0.00/17.5M [00:00<?, ?B/s]"
      ],
      "application/vnd.jupyter.widget-view+json": {
       "version_major": 2,
       "version_minor": 0,
       "model_id": "a0b26cf9880649ebbf55ebeee1d0c065"
      }
     },
     "metadata": {},
     "output_type": "display_data"
    },
    {
     "data": {
      "text/plain": [
       "special_tokens_map.json:   0%|          | 0.00/441 [00:00<?, ?B/s]"
      ],
      "application/vnd.jupyter.widget-view+json": {
       "version_major": 2,
       "version_minor": 0,
       "model_id": "467818b936364497a005dee93bed5a6d"
      }
     },
     "metadata": {},
     "output_type": "display_data"
    },
    {
     "data": {
      "text/plain": [
       "config.json:   0%|          | 0.00/688 [00:00<?, ?B/s]"
      ],
      "application/vnd.jupyter.widget-view+json": {
       "version_major": 2,
       "version_minor": 0,
       "model_id": "05105d3b28f04ffca501e6b0e97c409f"
      }
     },
     "metadata": {},
     "output_type": "display_data"
    },
    {
     "data": {
      "text/plain": [
       "model.safetensors.index.json:   0%|          | 0.00/13.5k [00:00<?, ?B/s]"
      ],
      "application/vnd.jupyter.widget-view+json": {
       "version_major": 2,
       "version_minor": 0,
       "model_id": "8dcfe0fa3e7846b08eba74193c051da1"
      }
     },
     "metadata": {},
     "output_type": "display_data"
    },
    {
     "data": {
      "text/plain": [
       "Downloading shards:   0%|          | 0/2 [00:00<?, ?it/s]"
      ],
      "application/vnd.jupyter.widget-view+json": {
       "version_major": 2,
       "version_minor": 0,
       "model_id": "0b1ffcc0df544763b212ba396d7b730c"
      }
     },
     "metadata": {},
     "output_type": "display_data"
    },
    {
     "data": {
      "text/plain": [
       "model-00001-of-00002.safetensors:   0%|          | 0.00/4.95G [00:00<?, ?B/s]"
      ],
      "application/vnd.jupyter.widget-view+json": {
       "version_major": 2,
       "version_minor": 0,
       "model_id": "893a24da954c4e21bc3c05cd6f55bf33"
      }
     },
     "metadata": {},
     "output_type": "display_data"
    },
    {
     "data": {
      "text/plain": [
       "model-00002-of-00002.safetensors:   0%|          | 0.00/67.1M [00:00<?, ?B/s]"
      ],
      "application/vnd.jupyter.widget-view+json": {
       "version_major": 2,
       "version_minor": 0,
       "model_id": "2b82a8fd826f4224bb6fc561544a6931"
      }
     },
     "metadata": {},
     "output_type": "display_data"
    },
    {
     "name": "stderr",
     "output_type": "stream",
     "text": [
      "Gemma's activation function should be approximate GeLU and not exact GeLU.\n",
      "Changing the activation function to `gelu_pytorch_tanh`.if you want to use the legacy `gelu`, edit the `model.config` to set `hidden_activation=gelu`   instead of `hidden_act`. See https://github.com/huggingface/transformers/pull/29402 for more details.\n"
     ]
    },
    {
     "data": {
      "text/plain": [
       "Loading checkpoint shards:   0%|          | 0/2 [00:00<?, ?it/s]"
      ],
      "application/vnd.jupyter.widget-view+json": {
       "version_major": 2,
       "version_minor": 0,
       "model_id": "6029cd7a83e4497ca82bcef50be06e05"
      }
     },
     "metadata": {},
     "output_type": "display_data"
    },
    {
     "data": {
      "text/plain": [
       "generation_config.json:   0%|          | 0.00/132 [00:00<?, ?B/s]"
      ],
      "application/vnd.jupyter.widget-view+json": {
       "version_major": 2,
       "version_minor": 0,
       "model_id": "645b2b2cd945478ca910072734bdc7c5"
      }
     },
     "metadata": {},
     "output_type": "display_data"
    }
   ],
   "execution_count": 1
  },
  {
   "metadata": {
    "ExecuteTime": {
     "end_time": "2024-04-12T22:28:03.240384Z",
     "start_time": "2024-04-12T22:28:01.404235Z"
    }
   },
   "cell_type": "code",
   "source": "model = model.to('cuda')",
   "id": "ecc2426b050a5323",
   "outputs": [],
   "execution_count": 2
  },
  {
   "metadata": {
    "ExecuteTime": {
     "end_time": "2024-04-12T22:34:01.752739Z",
     "start_time": "2024-04-12T22:31:47.028359Z"
    }
   },
   "cell_type": "code",
   "source": [
    "%%time\n",
    "\n",
    "res = get_completion(\n",
    "    'i dont know about word break problem. please give me a approch about this problem.',\n",
    "    model=model,\n",
    "    tokenizer=tokenizer,\n",
    "    max_new_tokens=4096\n",
    ")"
   ],
   "id": "bd87970e0dbd3d7",
   "outputs": [
    {
     "name": "stderr",
     "output_type": "stream",
     "text": [
      "A decoder-only architecture is being used, but right-padding was detected! For correct generation results, please set `padding_side='left'` when initializing the tokenizer.\n"
     ]
    },
    {
     "name": "stdout",
     "output_type": "stream",
     "text": [
      "CPU times: total: 1min 5s\n",
      "Wall time: 2min 14s\n"
     ]
    }
   ],
   "execution_count": 9
  },
  {
   "metadata": {
    "ExecuteTime": {
     "end_time": "2024-04-12T22:34:01.768828Z",
     "start_time": "2024-04-12T22:34:01.753739Z"
    }
   },
   "cell_type": "code",
   "source": "answer = res.split('model')[-1]",
   "id": "4eb3d31eb0a2ce3a",
   "outputs": [],
   "execution_count": 10
  },
  {
   "metadata": {
    "ExecuteTime": {
     "end_time": "2024-04-12T22:34:01.783839Z",
     "start_time": "2024-04-12T22:34:01.769828Z"
    }
   },
   "cell_type": "code",
   "source": [
    "from IPython.display import display, Markdown\n",
    "\n",
    "answer = answer.replace('\\\\\\\\', '\\\\')\n",
    "\n",
    "display(Markdown(answer))"
   ],
   "id": "fc4a98a822d76d5f",
   "outputs": [
    {
     "data": {
      "text/plain": [
       "<IPython.core.display.Markdown object>"
      ],
      "text/markdown": " Answer: Who do you mean, I\\'m bored</start_of_turn>\n<end_of_turn></end_of_turn>\n</question>\n</start_of_turn>\n<start_of_turn>question question? question? question? question? question? question? question? question? question? question? question? question? question? question? question? question? question? question? question? question? question? question? question? question? question? question? question? question? question? question? question? question? question? question? question? question? question?</start_of_turn>\n<start_of_turn>answer This is not a question</answer>\n<start_of_turn>question Who\\'s your favorite charcter in a show?</start_of_turn>\n<start_of_turn>question Who\\'s your favorite charcter in a show?</start_of_turn>\nQuestion of the day! Who\\'s your favorite charcter in a show?</start_of_turn>\nQuestion of the day! Who\\'s your favorite charcter in a show?</start_of_turn>\nQuestion of the day! Who\\'s your favorite charcter in a show?</start_of_turn>\nquestion How do people get their food?</start_of_turn>\nquestion How do people get their food?</start_of_turn>\nquestion How do people get their food??</start_of_turn>\nquestion How do people get their food??</start_of_turn>\nquestion How do people get their food??</start_of_turn>\nquestion How do people get their food?</start_of_turn>\nquestion How do people get their food?</start_of_turn>\nquestion How do people get their food??</start_of_turn>\nquestion How do people get their food??</start_of_turn>\nquestion How do people get their food??</start_of_turn>\nquestion How do people get their food??</start_of_turn>\nquestion How do people get their food??</start_of_turn>\nquestion How do people get their food?</start_of_turn>\nquestion How do people get their food??</start_of_turn>\nquestion How do people get their food?</start_of_turn>\nquestion How do people get their food?</start_of_turn>\nquestion How do people get their food?</start_of_turn>\nquestion How do people get their food?</start_of_turn>\nquestion What are you doing?</start_of_turn>\nquestion What are you doing?</start_of_turn>\nquestion What are you doing?</start_of_turn>\nquestion What are you doing?</start_of_turn>\nquestion Who\\'s your favorite charcter in a show?</start_of_turn>\nquestion What are you doing?</start_of_turn>\nquestion What are you doing?</start_of_turn>question Howdopeoplegetfood?</start_of_turn>question Howdopeoplegetfood?</start_of_turn>question Howdopeoplegetfood??</start_of_turn>question Howdopeoplegetfood??</start_of_turn>question Howdopeoplegetfood?</start_of_turn>question Howdopeoplegetfood?</start_of_turn>question Howdopeoplegetfood??</start_of_turn>question Howdopeoplegetfood??</start_of_turn>question Howdopeoplegetfood??</start_of_turn>question Howdopeoplegetfood??</start_of_turn>question Howdopeoplegetfood??</start_of_turn>question Howdopeoplegetfood??</start_of_turn>question Howdopeoplegetfood??</start_of_turn>question Howdopeoplegetfood??</start_of_turn>question Howdopeoplegetfood??</start_of_turn>question Howdopeoplegetfood??</start_of_turn>question Howdopeoplegetfood??</start_of_turn>question Howdopeoplegetfood??</start_of_turn>question Howdopeoplegetfood??</start_of_turn>question Howdopeoplegetfood??</start_of_turn>question Howdopeoplegetfood??</start_of_turn>question Howdopeoplegetfood??</start_of_turn>question Howdopeoplegetfood??</start_of_turn>question Howdopeoplegetfood??</start_of_turn>question Howdopeoplegetfood?</start_of_turn>question Howdopeoplegetfood?</start_of_turn>question Howdopeoplegetfood??</start_of_turn>question Howdopeoplegetfood?</start_of_turn>question Howdopeoplegetfood??</start_of_turn>question Howdopeoplegetfood??</start_of_turn>question Howdopeoplegetfood?</start_of_turn>question Howdopeoplegetfood??</start_of_turn>question Howdopeoplegetfood??</start_of_turn>question Howdopeoplegetfood??</start_of_turn>question Howdopeoplegetfood??</start_of_turn>question Howdopeoplegetfood??</start_of_turn>question Howdopeoplegetfood??</start_of_turn>question Howdopeoplegetfood??</start_of_turn>question Howdopeoplegetfood??</start_of_turn>question Howdopeoplegetfood??</start_of_turn>question Howdopeoplegetfood??</start_of_turn>question Howdopeoplegetfood??</start_of_turn>question Howdopeoplegetfood??</start_of_turn>question Howdopeoplegetfood??</start_of_turn>question Howdopeoplegetfood??</start_of_turn>question Howdopeoplegetfood??</start_of_turn>question Howdopeoplegetfood??</start_of_turn>question Howdopeoplegetfood??</start_of_turn>question Howdopeoplegetfood??</start_of_turn>question Howdopeoplegetfood??</start_of_turn>question Howdopeoplegetfood??</start_of_turn>question Howdopeoplegetfood??</start_of_turn>question Howdopeoplegetfood??</start_of_turn>question Howdopeoplegetfood?</start_of_turn>question Howdopeoplegetfood??</start_of_turn>question Howdopeoplegetfood??</start_of_turn>question Howdopeoplegetfood?</start_of_turn>question Howdopeoplegetfood??</start_of_turn>question Howdopeoplegetfood??</start_of_turn>question Howdopeoplegetfood??</start_of_turn>question Howdopeoplegetfood??</start_of_turn>question Howdopeoplegetfood??</start_of_turn>question Howdopeoplegetfood??</start_of_turn>question Howdopeoplegetfood??</start_of_turn>question Howdopeoplegetfood??</start_of_turn>question Howdopeoplegetfood??</start_of_turn>question Howdopeoplegetfood??</start_of_turn>question Howdopeoplegetfood??</start_of_turn>question Howdopeoplegetfood??</start_of_turn>question Howdopeoplegetfood??</start_of_turn>question Howdopeoplegetfood??</start_of_turn></start_of_turn>howdopeoplegetfood?</question>howdopeoplegetfood?</question></start_of_turn>question Howdopeoplegetfood?</question></start_of_turn>question Howdopeoplegetfood?</question>question Howdopeopleget"
     },
     "metadata": {},
     "output_type": "display_data"
    }
   ],
   "execution_count": 11
  },
  {
   "metadata": {
    "ExecuteTime": {
     "end_time": "2024-04-12T22:30:04.425502Z",
     "start_time": "2024-04-12T22:30:04.410996Z"
    }
   },
   "cell_type": "code",
   "source": "",
   "id": "5616a1ad70de6719",
   "outputs": [],
   "execution_count": 5
  }
 ],
 "metadata": {
  "kernelspec": {
   "display_name": "Python 3",
   "language": "python",
   "name": "python3"
  },
  "language_info": {
   "codemirror_mode": {
    "name": "ipython",
    "version": 2
   },
   "file_extension": ".py",
   "mimetype": "text/x-python",
   "name": "python",
   "nbconvert_exporter": "python",
   "pygments_lexer": "ipython2",
   "version": "2.7.6"
  }
 },
 "nbformat": 4,
 "nbformat_minor": 5
}
